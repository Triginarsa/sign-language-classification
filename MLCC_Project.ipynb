{
  "nbformat": 4,
  "nbformat_minor": 0,
  "metadata": {
    "colab": {
      "name": "MLCC-Project.ipynb",
      "provenance": [],
      "collapsed_sections": [],
      "authorship_tag": "ABX9TyNqfft3aZPUB25oIn6sn8en",
      "include_colab_link": true
    },
    "kernelspec": {
      "name": "python3",
      "display_name": "Python 3"
    }
  },
  "cells": [
    {
      "cell_type": "markdown",
      "metadata": {
        "id": "view-in-github",
        "colab_type": "text"
      },
      "source": [
        "<a href=\"https://colab.research.google.com/github/moniccpratiwi/sign-language-classification/blob/fandi-branch/MLCC_Project.ipynb\" target=\"_parent\"><img src=\"https://colab.research.google.com/assets/colab-badge.svg\" alt=\"Open In Colab\"/></a>"
      ]
    },
    {
      "cell_type": "markdown",
      "metadata": {
        "id": "f4ylb3rwV3Wq",
        "colab_type": "text"
      },
      "source": [
        "**IMPORT LIBRARY**"
      ]
    },
    {
      "cell_type": "code",
      "metadata": {
        "cellView": "both",
        "colab_type": "code",
        "id": "4LJ4SD8BWHeh",
        "colab": {}
      },
      "source": [
        "from __future__ import print_function\n",
        "import numpy as np\n",
        "import pandas as pd\n",
        "import matplotlib.pyplot as plt\n",
        "import seaborn as sns\n",
        "from sklearn.preprocessing import LabelBinarizer\n",
        "from sklearn.model_selection import train_test_split\n",
        "from sklearn.metrics import accuracy_score\n",
        "from tensorflow import keras\n",
        "from tensorflow.keras.models import Sequential\n",
        "from tensorflow.keras.layers import Dense, Conv2D, MaxPooling2D, Flatten, Dropout\n"
      ],
      "execution_count": 0,
      "outputs": []
    },
    {
      "cell_type": "code",
      "metadata": {
        "id": "PzRTGYQh1uKu",
        "colab_type": "code",
        "colab": {}
      },
      "source": [
        "! pip install -q kaggle"
      ],
      "execution_count": 0,
      "outputs": []
    },
    {
      "cell_type": "code",
      "metadata": {
        "id": "d2lCUqA22FmD",
        "colab_type": "code",
        "colab": {}
      },
      "source": [
        "from google.colab import files\n",
        "files.upload()"
      ],
      "execution_count": 0,
      "outputs": []
    },
    {
      "cell_type": "code",
      "metadata": {
        "id": "p-ZKaQ8i2S_G",
        "colab_type": "code",
        "colab": {}
      },
      "source": [
        "! mkdir ~/.kaggle\n",
        "! cp kaggle.json ~/.kaggle/\n",
        "! chmod 600 ~/.kaggle/kaggle.json"
      ],
      "execution_count": 0,
      "outputs": []
    },
    {
      "cell_type": "code",
      "metadata": {
        "id": "HPcDkrXO2t8i",
        "colab_type": "code",
        "colab": {}
      },
      "source": [
        "!kaggle datasets download -d datamunge/sign-language-mnist\n",
        "!unzip sign-language-mnist.zip"
      ],
      "execution_count": 0,
      "outputs": []
    },
    {
      "cell_type": "markdown",
      "metadata": {
        "id": "pw_l6Ccc7hoG",
        "colab_type": "text"
      },
      "source": [
        "**IMPORT DATASETS**"
      ]
    },
    {
      "cell_type": "code",
      "metadata": {
        "id": "H48sF2eU7a1C",
        "colab_type": "code",
        "colab": {}
      },
      "source": [
        "ds_train = pd.read_csv(\"sign_mnist_train.csv\")\n",
        "ds_test = pd.read_csv(\"sign_mnist_test.csv\")"
      ],
      "execution_count": 0,
      "outputs": []
    },
    {
      "cell_type": "code",
      "metadata": {
        "id": "6W73WEvn73l6",
        "colab_type": "code",
        "outputId": "1e575ee4-c612-438a-8435-2819f4a194a5",
        "colab": {
          "base_uri": "https://localhost:8080/",
          "height": 333
        }
      },
      "source": [
        "ds_train.describe()\n"
      ],
      "execution_count": 0,
      "outputs": [
        {
          "output_type": "execute_result",
          "data": {
            "text/html": [
              "<div>\n",
              "<style scoped>\n",
              "    .dataframe tbody tr th:only-of-type {\n",
              "        vertical-align: middle;\n",
              "    }\n",
              "\n",
              "    .dataframe tbody tr th {\n",
              "        vertical-align: top;\n",
              "    }\n",
              "\n",
              "    .dataframe thead th {\n",
              "        text-align: right;\n",
              "    }\n",
              "</style>\n",
              "<table border=\"1\" class=\"dataframe\">\n",
              "  <thead>\n",
              "    <tr style=\"text-align: right;\">\n",
              "      <th></th>\n",
              "      <th>pixel1</th>\n",
              "      <th>pixel2</th>\n",
              "      <th>pixel3</th>\n",
              "      <th>pixel4</th>\n",
              "      <th>pixel5</th>\n",
              "      <th>pixel6</th>\n",
              "      <th>pixel7</th>\n",
              "      <th>pixel8</th>\n",
              "      <th>pixel9</th>\n",
              "      <th>pixel10</th>\n",
              "      <th>pixel11</th>\n",
              "      <th>pixel12</th>\n",
              "      <th>pixel13</th>\n",
              "      <th>pixel14</th>\n",
              "      <th>pixel15</th>\n",
              "      <th>pixel16</th>\n",
              "      <th>pixel17</th>\n",
              "      <th>pixel18</th>\n",
              "      <th>pixel19</th>\n",
              "      <th>pixel20</th>\n",
              "      <th>pixel21</th>\n",
              "      <th>pixel22</th>\n",
              "      <th>pixel23</th>\n",
              "      <th>pixel24</th>\n",
              "      <th>pixel25</th>\n",
              "      <th>pixel26</th>\n",
              "      <th>pixel27</th>\n",
              "      <th>pixel28</th>\n",
              "      <th>pixel29</th>\n",
              "      <th>pixel30</th>\n",
              "      <th>pixel31</th>\n",
              "      <th>pixel32</th>\n",
              "      <th>pixel33</th>\n",
              "      <th>pixel34</th>\n",
              "      <th>pixel35</th>\n",
              "      <th>pixel36</th>\n",
              "      <th>pixel37</th>\n",
              "      <th>pixel38</th>\n",
              "      <th>pixel39</th>\n",
              "      <th>pixel40</th>\n",
              "      <th>...</th>\n",
              "      <th>pixel745</th>\n",
              "      <th>pixel746</th>\n",
              "      <th>pixel747</th>\n",
              "      <th>pixel748</th>\n",
              "      <th>pixel749</th>\n",
              "      <th>pixel750</th>\n",
              "      <th>pixel751</th>\n",
              "      <th>pixel752</th>\n",
              "      <th>pixel753</th>\n",
              "      <th>pixel754</th>\n",
              "      <th>pixel755</th>\n",
              "      <th>pixel756</th>\n",
              "      <th>pixel757</th>\n",
              "      <th>pixel758</th>\n",
              "      <th>pixel759</th>\n",
              "      <th>pixel760</th>\n",
              "      <th>pixel761</th>\n",
              "      <th>pixel762</th>\n",
              "      <th>pixel763</th>\n",
              "      <th>pixel764</th>\n",
              "      <th>pixel765</th>\n",
              "      <th>pixel766</th>\n",
              "      <th>pixel767</th>\n",
              "      <th>pixel768</th>\n",
              "      <th>pixel769</th>\n",
              "      <th>pixel770</th>\n",
              "      <th>pixel771</th>\n",
              "      <th>pixel772</th>\n",
              "      <th>pixel773</th>\n",
              "      <th>pixel774</th>\n",
              "      <th>pixel775</th>\n",
              "      <th>pixel776</th>\n",
              "      <th>pixel777</th>\n",
              "      <th>pixel778</th>\n",
              "      <th>pixel779</th>\n",
              "      <th>pixel780</th>\n",
              "      <th>pixel781</th>\n",
              "      <th>pixel782</th>\n",
              "      <th>pixel783</th>\n",
              "      <th>pixel784</th>\n",
              "    </tr>\n",
              "  </thead>\n",
              "  <tbody>\n",
              "    <tr>\n",
              "      <th>count</th>\n",
              "      <td>27455.000000</td>\n",
              "      <td>27455.000000</td>\n",
              "      <td>27455.000000</td>\n",
              "      <td>27455.000000</td>\n",
              "      <td>27455.000000</td>\n",
              "      <td>27455.000000</td>\n",
              "      <td>27455.000000</td>\n",
              "      <td>27455.000000</td>\n",
              "      <td>27455.000000</td>\n",
              "      <td>27455.000000</td>\n",
              "      <td>27455.000000</td>\n",
              "      <td>27455.000000</td>\n",
              "      <td>27455.000000</td>\n",
              "      <td>27455.000000</td>\n",
              "      <td>27455.000000</td>\n",
              "      <td>27455.000000</td>\n",
              "      <td>27455.000000</td>\n",
              "      <td>27455.000000</td>\n",
              "      <td>27455.000000</td>\n",
              "      <td>27455.000000</td>\n",
              "      <td>27455.000000</td>\n",
              "      <td>27455.000000</td>\n",
              "      <td>27455.000000</td>\n",
              "      <td>27455.000000</td>\n",
              "      <td>27455.000000</td>\n",
              "      <td>27455.000000</td>\n",
              "      <td>27455.000000</td>\n",
              "      <td>27455.000000</td>\n",
              "      <td>27455.000000</td>\n",
              "      <td>27455.000000</td>\n",
              "      <td>27455.000000</td>\n",
              "      <td>27455.000000</td>\n",
              "      <td>27455.000000</td>\n",
              "      <td>27455.000000</td>\n",
              "      <td>27455.000000</td>\n",
              "      <td>27455.000000</td>\n",
              "      <td>27455.000000</td>\n",
              "      <td>27455.000000</td>\n",
              "      <td>27455.000000</td>\n",
              "      <td>27455.000000</td>\n",
              "      <td>...</td>\n",
              "      <td>27455.000000</td>\n",
              "      <td>27455.000000</td>\n",
              "      <td>27455.000000</td>\n",
              "      <td>27455.000000</td>\n",
              "      <td>27455.000000</td>\n",
              "      <td>27455.000000</td>\n",
              "      <td>27455.000000</td>\n",
              "      <td>27455.000000</td>\n",
              "      <td>27455.000000</td>\n",
              "      <td>27455.000000</td>\n",
              "      <td>27455.000000</td>\n",
              "      <td>27455.000000</td>\n",
              "      <td>27455.000000</td>\n",
              "      <td>27455.000000</td>\n",
              "      <td>27455.000000</td>\n",
              "      <td>27455.000000</td>\n",
              "      <td>27455.000000</td>\n",
              "      <td>27455.000000</td>\n",
              "      <td>27455.000000</td>\n",
              "      <td>27455.000000</td>\n",
              "      <td>27455.000000</td>\n",
              "      <td>27455.000000</td>\n",
              "      <td>27455.000000</td>\n",
              "      <td>27455.000000</td>\n",
              "      <td>27455.000000</td>\n",
              "      <td>27455.000000</td>\n",
              "      <td>27455.000000</td>\n",
              "      <td>27455.000000</td>\n",
              "      <td>27455.000000</td>\n",
              "      <td>27455.000000</td>\n",
              "      <td>27455.000000</td>\n",
              "      <td>27455.000000</td>\n",
              "      <td>27455.000000</td>\n",
              "      <td>27455.000000</td>\n",
              "      <td>27455.000000</td>\n",
              "      <td>27455.000000</td>\n",
              "      <td>27455.000000</td>\n",
              "      <td>27455.000000</td>\n",
              "      <td>27455.000000</td>\n",
              "      <td>27455.000000</td>\n",
              "    </tr>\n",
              "    <tr>\n",
              "      <th>mean</th>\n",
              "      <td>145.419377</td>\n",
              "      <td>148.500273</td>\n",
              "      <td>151.247714</td>\n",
              "      <td>153.546531</td>\n",
              "      <td>156.210891</td>\n",
              "      <td>158.411255</td>\n",
              "      <td>160.472154</td>\n",
              "      <td>162.339683</td>\n",
              "      <td>163.954799</td>\n",
              "      <td>165.533673</td>\n",
              "      <td>166.685522</td>\n",
              "      <td>167.811983</td>\n",
              "      <td>168.495647</td>\n",
              "      <td>169.310872</td>\n",
              "      <td>169.956948</td>\n",
              "      <td>170.460463</td>\n",
              "      <td>170.716518</td>\n",
              "      <td>170.872701</td>\n",
              "      <td>170.808887</td>\n",
              "      <td>170.481442</td>\n",
              "      <td>169.979749</td>\n",
              "      <td>169.264506</td>\n",
              "      <td>168.144127</td>\n",
              "      <td>166.936660</td>\n",
              "      <td>165.765944</td>\n",
              "      <td>163.620725</td>\n",
              "      <td>161.933600</td>\n",
              "      <td>161.349117</td>\n",
              "      <td>147.146858</td>\n",
              "      <td>150.284502</td>\n",
              "      <td>152.941978</td>\n",
              "      <td>155.415043</td>\n",
              "      <td>158.068986</td>\n",
              "      <td>160.229576</td>\n",
              "      <td>162.345802</td>\n",
              "      <td>164.291167</td>\n",
              "      <td>165.736332</td>\n",
              "      <td>166.991732</td>\n",
              "      <td>168.503187</td>\n",
              "      <td>169.287307</td>\n",
              "      <td>...</td>\n",
              "      <td>131.949918</td>\n",
              "      <td>134.583755</td>\n",
              "      <td>139.361974</td>\n",
              "      <td>148.115862</td>\n",
              "      <td>155.095465</td>\n",
              "      <td>160.346858</td>\n",
              "      <td>163.915607</td>\n",
              "      <td>165.364414</td>\n",
              "      <td>165.911273</td>\n",
              "      <td>165.182080</td>\n",
              "      <td>164.407977</td>\n",
              "      <td>163.488254</td>\n",
              "      <td>143.407758</td>\n",
              "      <td>144.189474</td>\n",
              "      <td>145.711637</td>\n",
              "      <td>147.660718</td>\n",
              "      <td>149.019414</td>\n",
              "      <td>148.670843</td>\n",
              "      <td>148.185212</td>\n",
              "      <td>147.298926</td>\n",
              "      <td>146.286323</td>\n",
              "      <td>144.027062</td>\n",
              "      <td>142.966017</td>\n",
              "      <td>139.769550</td>\n",
              "      <td>137.071572</td>\n",
              "      <td>135.277181</td>\n",
              "      <td>131.922783</td>\n",
              "      <td>130.232235</td>\n",
              "      <td>132.046367</td>\n",
              "      <td>135.289237</td>\n",
              "      <td>141.104863</td>\n",
              "      <td>147.495611</td>\n",
              "      <td>153.325806</td>\n",
              "      <td>159.125332</td>\n",
              "      <td>161.969259</td>\n",
              "      <td>162.736696</td>\n",
              "      <td>162.906137</td>\n",
              "      <td>161.966454</td>\n",
              "      <td>161.137898</td>\n",
              "      <td>159.824731</td>\n",
              "    </tr>\n",
              "    <tr>\n",
              "      <th>std</th>\n",
              "      <td>41.358555</td>\n",
              "      <td>39.942152</td>\n",
              "      <td>39.056286</td>\n",
              "      <td>38.595247</td>\n",
              "      <td>37.111165</td>\n",
              "      <td>36.125579</td>\n",
              "      <td>35.016392</td>\n",
              "      <td>33.661998</td>\n",
              "      <td>32.651607</td>\n",
              "      <td>31.279244</td>\n",
              "      <td>30.558445</td>\n",
              "      <td>29.771007</td>\n",
              "      <td>29.329251</td>\n",
              "      <td>28.620248</td>\n",
              "      <td>27.961255</td>\n",
              "      <td>27.053544</td>\n",
              "      <td>26.763535</td>\n",
              "      <td>26.307419</td>\n",
              "      <td>26.088459</td>\n",
              "      <td>26.475963</td>\n",
              "      <td>26.940885</td>\n",
              "      <td>27.871515</td>\n",
              "      <td>29.368386</td>\n",
              "      <td>30.906718</td>\n",
              "      <td>31.902723</td>\n",
              "      <td>34.303747</td>\n",
              "      <td>35.991306</td>\n",
              "      <td>36.571064</td>\n",
              "      <td>41.555429</td>\n",
              "      <td>40.094304</td>\n",
              "      <td>39.427215</td>\n",
              "      <td>38.686176</td>\n",
              "      <td>37.242459</td>\n",
              "      <td>36.373576</td>\n",
              "      <td>35.242915</td>\n",
              "      <td>33.899171</td>\n",
              "      <td>32.759395</td>\n",
              "      <td>31.656140</td>\n",
              "      <td>30.833853</td>\n",
              "      <td>30.285472</td>\n",
              "      <td>...</td>\n",
              "      <td>57.586028</td>\n",
              "      <td>60.373218</td>\n",
              "      <td>63.301768</td>\n",
              "      <td>63.300608</td>\n",
              "      <td>63.511566</td>\n",
              "      <td>62.551522</td>\n",
              "      <td>61.833119</td>\n",
              "      <td>62.210750</td>\n",
              "      <td>62.163516</td>\n",
              "      <td>61.958245</td>\n",
              "      <td>61.950177</td>\n",
              "      <td>62.403709</td>\n",
              "      <td>54.406116</td>\n",
              "      <td>53.658786</td>\n",
              "      <td>54.710497</td>\n",
              "      <td>54.613724</td>\n",
              "      <td>54.351761</td>\n",
              "      <td>55.233710</td>\n",
              "      <td>55.904715</td>\n",
              "      <td>57.155523</td>\n",
              "      <td>57.965677</td>\n",
              "      <td>57.393379</td>\n",
              "      <td>56.689603</td>\n",
              "      <td>56.118823</td>\n",
              "      <td>54.680900</td>\n",
              "      <td>55.278778</td>\n",
              "      <td>56.384076</td>\n",
              "      <td>58.111783</td>\n",
              "      <td>59.204300</td>\n",
              "      <td>62.553694</td>\n",
              "      <td>63.751194</td>\n",
              "      <td>65.512894</td>\n",
              "      <td>64.427412</td>\n",
              "      <td>63.708507</td>\n",
              "      <td>63.738316</td>\n",
              "      <td>63.444008</td>\n",
              "      <td>63.509210</td>\n",
              "      <td>63.298721</td>\n",
              "      <td>63.610415</td>\n",
              "      <td>64.396846</td>\n",
              "    </tr>\n",
              "    <tr>\n",
              "      <th>min</th>\n",
              "      <td>0.000000</td>\n",
              "      <td>0.000000</td>\n",
              "      <td>0.000000</td>\n",
              "      <td>0.000000</td>\n",
              "      <td>0.000000</td>\n",
              "      <td>0.000000</td>\n",
              "      <td>0.000000</td>\n",
              "      <td>0.000000</td>\n",
              "      <td>0.000000</td>\n",
              "      <td>0.000000</td>\n",
              "      <td>0.000000</td>\n",
              "      <td>0.000000</td>\n",
              "      <td>0.000000</td>\n",
              "      <td>0.000000</td>\n",
              "      <td>0.000000</td>\n",
              "      <td>17.000000</td>\n",
              "      <td>23.000000</td>\n",
              "      <td>28.000000</td>\n",
              "      <td>34.000000</td>\n",
              "      <td>0.000000</td>\n",
              "      <td>0.000000</td>\n",
              "      <td>0.000000</td>\n",
              "      <td>0.000000</td>\n",
              "      <td>0.000000</td>\n",
              "      <td>0.000000</td>\n",
              "      <td>0.000000</td>\n",
              "      <td>0.000000</td>\n",
              "      <td>0.000000</td>\n",
              "      <td>0.000000</td>\n",
              "      <td>0.000000</td>\n",
              "      <td>0.000000</td>\n",
              "      <td>0.000000</td>\n",
              "      <td>0.000000</td>\n",
              "      <td>0.000000</td>\n",
              "      <td>0.000000</td>\n",
              "      <td>0.000000</td>\n",
              "      <td>0.000000</td>\n",
              "      <td>0.000000</td>\n",
              "      <td>0.000000</td>\n",
              "      <td>0.000000</td>\n",
              "      <td>...</td>\n",
              "      <td>0.000000</td>\n",
              "      <td>0.000000</td>\n",
              "      <td>0.000000</td>\n",
              "      <td>0.000000</td>\n",
              "      <td>0.000000</td>\n",
              "      <td>0.000000</td>\n",
              "      <td>0.000000</td>\n",
              "      <td>0.000000</td>\n",
              "      <td>0.000000</td>\n",
              "      <td>0.000000</td>\n",
              "      <td>0.000000</td>\n",
              "      <td>0.000000</td>\n",
              "      <td>0.000000</td>\n",
              "      <td>0.000000</td>\n",
              "      <td>0.000000</td>\n",
              "      <td>0.000000</td>\n",
              "      <td>0.000000</td>\n",
              "      <td>0.000000</td>\n",
              "      <td>0.000000</td>\n",
              "      <td>0.000000</td>\n",
              "      <td>0.000000</td>\n",
              "      <td>0.000000</td>\n",
              "      <td>0.000000</td>\n",
              "      <td>0.000000</td>\n",
              "      <td>0.000000</td>\n",
              "      <td>0.000000</td>\n",
              "      <td>0.000000</td>\n",
              "      <td>0.000000</td>\n",
              "      <td>0.000000</td>\n",
              "      <td>0.000000</td>\n",
              "      <td>0.000000</td>\n",
              "      <td>0.000000</td>\n",
              "      <td>0.000000</td>\n",
              "      <td>0.000000</td>\n",
              "      <td>0.000000</td>\n",
              "      <td>0.000000</td>\n",
              "      <td>0.000000</td>\n",
              "      <td>0.000000</td>\n",
              "      <td>0.000000</td>\n",
              "      <td>0.000000</td>\n",
              "    </tr>\n",
              "    <tr>\n",
              "      <th>25%</th>\n",
              "      <td>121.000000</td>\n",
              "      <td>126.000000</td>\n",
              "      <td>130.000000</td>\n",
              "      <td>133.000000</td>\n",
              "      <td>137.000000</td>\n",
              "      <td>140.000000</td>\n",
              "      <td>142.000000</td>\n",
              "      <td>144.000000</td>\n",
              "      <td>146.000000</td>\n",
              "      <td>148.000000</td>\n",
              "      <td>150.000000</td>\n",
              "      <td>151.000000</td>\n",
              "      <td>152.000000</td>\n",
              "      <td>153.000000</td>\n",
              "      <td>153.000000</td>\n",
              "      <td>154.000000</td>\n",
              "      <td>154.000000</td>\n",
              "      <td>154.000000</td>\n",
              "      <td>155.000000</td>\n",
              "      <td>154.000000</td>\n",
              "      <td>154.000000</td>\n",
              "      <td>154.000000</td>\n",
              "      <td>153.000000</td>\n",
              "      <td>152.000000</td>\n",
              "      <td>151.000000</td>\n",
              "      <td>149.000000</td>\n",
              "      <td>147.000000</td>\n",
              "      <td>147.000000</td>\n",
              "      <td>123.000000</td>\n",
              "      <td>128.000000</td>\n",
              "      <td>132.000000</td>\n",
              "      <td>135.000000</td>\n",
              "      <td>139.000000</td>\n",
              "      <td>141.000000</td>\n",
              "      <td>144.000000</td>\n",
              "      <td>146.000000</td>\n",
              "      <td>148.000000</td>\n",
              "      <td>149.000000</td>\n",
              "      <td>151.000000</td>\n",
              "      <td>152.000000</td>\n",
              "      <td>...</td>\n",
              "      <td>91.000000</td>\n",
              "      <td>90.000000</td>\n",
              "      <td>90.000000</td>\n",
              "      <td>98.000000</td>\n",
              "      <td>104.000000</td>\n",
              "      <td>115.000000</td>\n",
              "      <td>127.000000</td>\n",
              "      <td>132.000000</td>\n",
              "      <td>137.000000</td>\n",
              "      <td>138.000000</td>\n",
              "      <td>140.000000</td>\n",
              "      <td>138.000000</td>\n",
              "      <td>104.000000</td>\n",
              "      <td>104.000000</td>\n",
              "      <td>105.000000</td>\n",
              "      <td>106.000000</td>\n",
              "      <td>107.000000</td>\n",
              "      <td>107.000000</td>\n",
              "      <td>106.000000</td>\n",
              "      <td>106.000000</td>\n",
              "      <td>105.000000</td>\n",
              "      <td>104.000000</td>\n",
              "      <td>104.000000</td>\n",
              "      <td>102.000000</td>\n",
              "      <td>102.000000</td>\n",
              "      <td>99.000000</td>\n",
              "      <td>94.000000</td>\n",
              "      <td>90.000000</td>\n",
              "      <td>90.000000</td>\n",
              "      <td>89.000000</td>\n",
              "      <td>92.000000</td>\n",
              "      <td>96.000000</td>\n",
              "      <td>103.000000</td>\n",
              "      <td>112.000000</td>\n",
              "      <td>120.000000</td>\n",
              "      <td>125.000000</td>\n",
              "      <td>128.000000</td>\n",
              "      <td>128.000000</td>\n",
              "      <td>128.000000</td>\n",
              "      <td>125.500000</td>\n",
              "    </tr>\n",
              "    <tr>\n",
              "      <th>50%</th>\n",
              "      <td>150.000000</td>\n",
              "      <td>153.000000</td>\n",
              "      <td>156.000000</td>\n",
              "      <td>158.000000</td>\n",
              "      <td>160.000000</td>\n",
              "      <td>162.000000</td>\n",
              "      <td>164.000000</td>\n",
              "      <td>165.000000</td>\n",
              "      <td>166.000000</td>\n",
              "      <td>167.000000</td>\n",
              "      <td>168.000000</td>\n",
              "      <td>169.000000</td>\n",
              "      <td>170.000000</td>\n",
              "      <td>170.000000</td>\n",
              "      <td>171.000000</td>\n",
              "      <td>171.000000</td>\n",
              "      <td>171.000000</td>\n",
              "      <td>171.000000</td>\n",
              "      <td>171.000000</td>\n",
              "      <td>170.000000</td>\n",
              "      <td>170.000000</td>\n",
              "      <td>170.000000</td>\n",
              "      <td>169.000000</td>\n",
              "      <td>168.000000</td>\n",
              "      <td>168.000000</td>\n",
              "      <td>167.000000</td>\n",
              "      <td>166.000000</td>\n",
              "      <td>165.000000</td>\n",
              "      <td>152.000000</td>\n",
              "      <td>155.000000</td>\n",
              "      <td>157.000000</td>\n",
              "      <td>160.000000</td>\n",
              "      <td>162.000000</td>\n",
              "      <td>164.000000</td>\n",
              "      <td>166.000000</td>\n",
              "      <td>167.000000</td>\n",
              "      <td>168.000000</td>\n",
              "      <td>169.000000</td>\n",
              "      <td>170.000000</td>\n",
              "      <td>171.000000</td>\n",
              "      <td>...</td>\n",
              "      <td>127.000000</td>\n",
              "      <td>130.000000</td>\n",
              "      <td>139.000000</td>\n",
              "      <td>161.000000</td>\n",
              "      <td>175.000000</td>\n",
              "      <td>181.000000</td>\n",
              "      <td>184.000000</td>\n",
              "      <td>185.000000</td>\n",
              "      <td>186.000000</td>\n",
              "      <td>185.000000</td>\n",
              "      <td>184.000000</td>\n",
              "      <td>184.000000</td>\n",
              "      <td>145.000000</td>\n",
              "      <td>146.000000</td>\n",
              "      <td>149.000000</td>\n",
              "      <td>151.000000</td>\n",
              "      <td>153.000000</td>\n",
              "      <td>153.000000</td>\n",
              "      <td>154.000000</td>\n",
              "      <td>152.000000</td>\n",
              "      <td>153.000000</td>\n",
              "      <td>152.000000</td>\n",
              "      <td>150.000000</td>\n",
              "      <td>146.000000</td>\n",
              "      <td>141.000000</td>\n",
              "      <td>137.000000</td>\n",
              "      <td>131.000000</td>\n",
              "      <td>128.000000</td>\n",
              "      <td>128.000000</td>\n",
              "      <td>132.000000</td>\n",
              "      <td>144.000000</td>\n",
              "      <td>162.000000</td>\n",
              "      <td>172.000000</td>\n",
              "      <td>180.000000</td>\n",
              "      <td>183.000000</td>\n",
              "      <td>184.000000</td>\n",
              "      <td>184.000000</td>\n",
              "      <td>182.000000</td>\n",
              "      <td>182.000000</td>\n",
              "      <td>182.000000</td>\n",
              "    </tr>\n",
              "    <tr>\n",
              "      <th>75%</th>\n",
              "      <td>174.000000</td>\n",
              "      <td>176.000000</td>\n",
              "      <td>178.000000</td>\n",
              "      <td>179.000000</td>\n",
              "      <td>181.000000</td>\n",
              "      <td>182.000000</td>\n",
              "      <td>183.000000</td>\n",
              "      <td>184.000000</td>\n",
              "      <td>185.000000</td>\n",
              "      <td>186.000000</td>\n",
              "      <td>186.000000</td>\n",
              "      <td>187.000000</td>\n",
              "      <td>187.000000</td>\n",
              "      <td>187.000000</td>\n",
              "      <td>188.000000</td>\n",
              "      <td>188.000000</td>\n",
              "      <td>188.000000</td>\n",
              "      <td>187.000000</td>\n",
              "      <td>187.000000</td>\n",
              "      <td>187.000000</td>\n",
              "      <td>187.000000</td>\n",
              "      <td>186.000000</td>\n",
              "      <td>186.000000</td>\n",
              "      <td>186.000000</td>\n",
              "      <td>185.000000</td>\n",
              "      <td>184.000000</td>\n",
              "      <td>184.000000</td>\n",
              "      <td>183.000000</td>\n",
              "      <td>176.000000</td>\n",
              "      <td>178.000000</td>\n",
              "      <td>180.000000</td>\n",
              "      <td>181.000000</td>\n",
              "      <td>183.000000</td>\n",
              "      <td>184.000000</td>\n",
              "      <td>185.000000</td>\n",
              "      <td>186.000000</td>\n",
              "      <td>187.000000</td>\n",
              "      <td>187.000000</td>\n",
              "      <td>188.000000</td>\n",
              "      <td>188.000000</td>\n",
              "      <td>...</td>\n",
              "      <td>177.000000</td>\n",
              "      <td>186.000000</td>\n",
              "      <td>195.000000</td>\n",
              "      <td>201.000000</td>\n",
              "      <td>205.000000</td>\n",
              "      <td>207.000000</td>\n",
              "      <td>207.000000</td>\n",
              "      <td>208.000000</td>\n",
              "      <td>208.000000</td>\n",
              "      <td>207.000000</td>\n",
              "      <td>206.000000</td>\n",
              "      <td>205.000000</td>\n",
              "      <td>187.000000</td>\n",
              "      <td>187.000000</td>\n",
              "      <td>190.000000</td>\n",
              "      <td>192.000000</td>\n",
              "      <td>193.000000</td>\n",
              "      <td>193.000000</td>\n",
              "      <td>192.000000</td>\n",
              "      <td>193.000000</td>\n",
              "      <td>192.000000</td>\n",
              "      <td>188.000000</td>\n",
              "      <td>185.000000</td>\n",
              "      <td>181.000000</td>\n",
              "      <td>176.000000</td>\n",
              "      <td>174.000000</td>\n",
              "      <td>172.000000</td>\n",
              "      <td>173.000000</td>\n",
              "      <td>180.000000</td>\n",
              "      <td>189.000000</td>\n",
              "      <td>196.000000</td>\n",
              "      <td>202.000000</td>\n",
              "      <td>205.000000</td>\n",
              "      <td>207.000000</td>\n",
              "      <td>208.000000</td>\n",
              "      <td>207.000000</td>\n",
              "      <td>207.000000</td>\n",
              "      <td>206.000000</td>\n",
              "      <td>204.000000</td>\n",
              "      <td>204.000000</td>\n",
              "    </tr>\n",
              "    <tr>\n",
              "      <th>max</th>\n",
              "      <td>255.000000</td>\n",
              "      <td>255.000000</td>\n",
              "      <td>255.000000</td>\n",
              "      <td>255.000000</td>\n",
              "      <td>255.000000</td>\n",
              "      <td>255.000000</td>\n",
              "      <td>255.000000</td>\n",
              "      <td>255.000000</td>\n",
              "      <td>255.000000</td>\n",
              "      <td>255.000000</td>\n",
              "      <td>255.000000</td>\n",
              "      <td>255.000000</td>\n",
              "      <td>255.000000</td>\n",
              "      <td>255.000000</td>\n",
              "      <td>255.000000</td>\n",
              "      <td>255.000000</td>\n",
              "      <td>255.000000</td>\n",
              "      <td>255.000000</td>\n",
              "      <td>255.000000</td>\n",
              "      <td>255.000000</td>\n",
              "      <td>255.000000</td>\n",
              "      <td>255.000000</td>\n",
              "      <td>255.000000</td>\n",
              "      <td>255.000000</td>\n",
              "      <td>255.000000</td>\n",
              "      <td>255.000000</td>\n",
              "      <td>255.000000</td>\n",
              "      <td>255.000000</td>\n",
              "      <td>255.000000</td>\n",
              "      <td>255.000000</td>\n",
              "      <td>255.000000</td>\n",
              "      <td>255.000000</td>\n",
              "      <td>255.000000</td>\n",
              "      <td>255.000000</td>\n",
              "      <td>255.000000</td>\n",
              "      <td>255.000000</td>\n",
              "      <td>255.000000</td>\n",
              "      <td>255.000000</td>\n",
              "      <td>255.000000</td>\n",
              "      <td>255.000000</td>\n",
              "      <td>...</td>\n",
              "      <td>255.000000</td>\n",
              "      <td>255.000000</td>\n",
              "      <td>255.000000</td>\n",
              "      <td>255.000000</td>\n",
              "      <td>255.000000</td>\n",
              "      <td>255.000000</td>\n",
              "      <td>255.000000</td>\n",
              "      <td>255.000000</td>\n",
              "      <td>255.000000</td>\n",
              "      <td>255.000000</td>\n",
              "      <td>255.000000</td>\n",
              "      <td>255.000000</td>\n",
              "      <td>255.000000</td>\n",
              "      <td>255.000000</td>\n",
              "      <td>255.000000</td>\n",
              "      <td>255.000000</td>\n",
              "      <td>255.000000</td>\n",
              "      <td>255.000000</td>\n",
              "      <td>255.000000</td>\n",
              "      <td>255.000000</td>\n",
              "      <td>255.000000</td>\n",
              "      <td>255.000000</td>\n",
              "      <td>255.000000</td>\n",
              "      <td>255.000000</td>\n",
              "      <td>255.000000</td>\n",
              "      <td>255.000000</td>\n",
              "      <td>255.000000</td>\n",
              "      <td>255.000000</td>\n",
              "      <td>255.000000</td>\n",
              "      <td>255.000000</td>\n",
              "      <td>255.000000</td>\n",
              "      <td>255.000000</td>\n",
              "      <td>255.000000</td>\n",
              "      <td>255.000000</td>\n",
              "      <td>255.000000</td>\n",
              "      <td>255.000000</td>\n",
              "      <td>255.000000</td>\n",
              "      <td>255.000000</td>\n",
              "      <td>255.000000</td>\n",
              "      <td>255.000000</td>\n",
              "    </tr>\n",
              "  </tbody>\n",
              "</table>\n",
              "<p>8 rows × 784 columns</p>\n",
              "</div>"
            ],
            "text/plain": [
              "             pixel1        pixel2  ...      pixel783      pixel784\n",
              "count  27455.000000  27455.000000  ...  27455.000000  27455.000000\n",
              "mean     145.419377    148.500273  ...    161.137898    159.824731\n",
              "std       41.358555     39.942152  ...     63.610415     64.396846\n",
              "min        0.000000      0.000000  ...      0.000000      0.000000\n",
              "25%      121.000000    126.000000  ...    128.000000    125.500000\n",
              "50%      150.000000    153.000000  ...    182.000000    182.000000\n",
              "75%      174.000000    176.000000  ...    204.000000    204.000000\n",
              "max      255.000000    255.000000  ...    255.000000    255.000000\n",
              "\n",
              "[8 rows x 784 columns]"
            ]
          },
          "metadata": {
            "tags": []
          },
          "execution_count": 88
        }
      ]
    },
    {
      "cell_type": "code",
      "metadata": {
        "id": "68fPS_SPM4LB",
        "colab_type": "code",
        "outputId": "4a582394-1a7a-4496-9b6e-26e323226393",
        "colab": {
          "base_uri": "https://localhost:8080/",
          "height": 244
        }
      },
      "source": [
        "ds_train.head()"
      ],
      "execution_count": 0,
      "outputs": [
        {
          "output_type": "execute_result",
          "data": {
            "text/html": [
              "<div>\n",
              "<style scoped>\n",
              "    .dataframe tbody tr th:only-of-type {\n",
              "        vertical-align: middle;\n",
              "    }\n",
              "\n",
              "    .dataframe tbody tr th {\n",
              "        vertical-align: top;\n",
              "    }\n",
              "\n",
              "    .dataframe thead th {\n",
              "        text-align: right;\n",
              "    }\n",
              "</style>\n",
              "<table border=\"1\" class=\"dataframe\">\n",
              "  <thead>\n",
              "    <tr style=\"text-align: right;\">\n",
              "      <th></th>\n",
              "      <th>label</th>\n",
              "      <th>pixel1</th>\n",
              "      <th>pixel2</th>\n",
              "      <th>pixel3</th>\n",
              "      <th>pixel4</th>\n",
              "      <th>pixel5</th>\n",
              "      <th>pixel6</th>\n",
              "      <th>pixel7</th>\n",
              "      <th>pixel8</th>\n",
              "      <th>pixel9</th>\n",
              "      <th>pixel10</th>\n",
              "      <th>pixel11</th>\n",
              "      <th>pixel12</th>\n",
              "      <th>pixel13</th>\n",
              "      <th>pixel14</th>\n",
              "      <th>pixel15</th>\n",
              "      <th>pixel16</th>\n",
              "      <th>pixel17</th>\n",
              "      <th>pixel18</th>\n",
              "      <th>pixel19</th>\n",
              "      <th>pixel20</th>\n",
              "      <th>pixel21</th>\n",
              "      <th>pixel22</th>\n",
              "      <th>pixel23</th>\n",
              "      <th>pixel24</th>\n",
              "      <th>pixel25</th>\n",
              "      <th>pixel26</th>\n",
              "      <th>pixel27</th>\n",
              "      <th>pixel28</th>\n",
              "      <th>pixel29</th>\n",
              "      <th>pixel30</th>\n",
              "      <th>pixel31</th>\n",
              "      <th>pixel32</th>\n",
              "      <th>pixel33</th>\n",
              "      <th>pixel34</th>\n",
              "      <th>pixel35</th>\n",
              "      <th>pixel36</th>\n",
              "      <th>pixel37</th>\n",
              "      <th>pixel38</th>\n",
              "      <th>pixel39</th>\n",
              "      <th>...</th>\n",
              "      <th>pixel745</th>\n",
              "      <th>pixel746</th>\n",
              "      <th>pixel747</th>\n",
              "      <th>pixel748</th>\n",
              "      <th>pixel749</th>\n",
              "      <th>pixel750</th>\n",
              "      <th>pixel751</th>\n",
              "      <th>pixel752</th>\n",
              "      <th>pixel753</th>\n",
              "      <th>pixel754</th>\n",
              "      <th>pixel755</th>\n",
              "      <th>pixel756</th>\n",
              "      <th>pixel757</th>\n",
              "      <th>pixel758</th>\n",
              "      <th>pixel759</th>\n",
              "      <th>pixel760</th>\n",
              "      <th>pixel761</th>\n",
              "      <th>pixel762</th>\n",
              "      <th>pixel763</th>\n",
              "      <th>pixel764</th>\n",
              "      <th>pixel765</th>\n",
              "      <th>pixel766</th>\n",
              "      <th>pixel767</th>\n",
              "      <th>pixel768</th>\n",
              "      <th>pixel769</th>\n",
              "      <th>pixel770</th>\n",
              "      <th>pixel771</th>\n",
              "      <th>pixel772</th>\n",
              "      <th>pixel773</th>\n",
              "      <th>pixel774</th>\n",
              "      <th>pixel775</th>\n",
              "      <th>pixel776</th>\n",
              "      <th>pixel777</th>\n",
              "      <th>pixel778</th>\n",
              "      <th>pixel779</th>\n",
              "      <th>pixel780</th>\n",
              "      <th>pixel781</th>\n",
              "      <th>pixel782</th>\n",
              "      <th>pixel783</th>\n",
              "      <th>pixel784</th>\n",
              "    </tr>\n",
              "  </thead>\n",
              "  <tbody>\n",
              "    <tr>\n",
              "      <th>0</th>\n",
              "      <td>3</td>\n",
              "      <td>107</td>\n",
              "      <td>118</td>\n",
              "      <td>127</td>\n",
              "      <td>134</td>\n",
              "      <td>139</td>\n",
              "      <td>143</td>\n",
              "      <td>146</td>\n",
              "      <td>150</td>\n",
              "      <td>153</td>\n",
              "      <td>156</td>\n",
              "      <td>158</td>\n",
              "      <td>160</td>\n",
              "      <td>163</td>\n",
              "      <td>165</td>\n",
              "      <td>159</td>\n",
              "      <td>166</td>\n",
              "      <td>168</td>\n",
              "      <td>170</td>\n",
              "      <td>170</td>\n",
              "      <td>171</td>\n",
              "      <td>171</td>\n",
              "      <td>171</td>\n",
              "      <td>172</td>\n",
              "      <td>171</td>\n",
              "      <td>171</td>\n",
              "      <td>170</td>\n",
              "      <td>170</td>\n",
              "      <td>169</td>\n",
              "      <td>111</td>\n",
              "      <td>121</td>\n",
              "      <td>129</td>\n",
              "      <td>135</td>\n",
              "      <td>141</td>\n",
              "      <td>144</td>\n",
              "      <td>148</td>\n",
              "      <td>151</td>\n",
              "      <td>154</td>\n",
              "      <td>157</td>\n",
              "      <td>160</td>\n",
              "      <td>...</td>\n",
              "      <td>205</td>\n",
              "      <td>206</td>\n",
              "      <td>206</td>\n",
              "      <td>207</td>\n",
              "      <td>207</td>\n",
              "      <td>206</td>\n",
              "      <td>206</td>\n",
              "      <td>204</td>\n",
              "      <td>205</td>\n",
              "      <td>204</td>\n",
              "      <td>203</td>\n",
              "      <td>202</td>\n",
              "      <td>142</td>\n",
              "      <td>151</td>\n",
              "      <td>160</td>\n",
              "      <td>172</td>\n",
              "      <td>196</td>\n",
              "      <td>188</td>\n",
              "      <td>188</td>\n",
              "      <td>190</td>\n",
              "      <td>135</td>\n",
              "      <td>96</td>\n",
              "      <td>86</td>\n",
              "      <td>77</td>\n",
              "      <td>77</td>\n",
              "      <td>79</td>\n",
              "      <td>176</td>\n",
              "      <td>205</td>\n",
              "      <td>207</td>\n",
              "      <td>207</td>\n",
              "      <td>207</td>\n",
              "      <td>207</td>\n",
              "      <td>207</td>\n",
              "      <td>207</td>\n",
              "      <td>206</td>\n",
              "      <td>206</td>\n",
              "      <td>206</td>\n",
              "      <td>204</td>\n",
              "      <td>203</td>\n",
              "      <td>202</td>\n",
              "    </tr>\n",
              "    <tr>\n",
              "      <th>1</th>\n",
              "      <td>6</td>\n",
              "      <td>155</td>\n",
              "      <td>157</td>\n",
              "      <td>156</td>\n",
              "      <td>156</td>\n",
              "      <td>156</td>\n",
              "      <td>157</td>\n",
              "      <td>156</td>\n",
              "      <td>158</td>\n",
              "      <td>158</td>\n",
              "      <td>157</td>\n",
              "      <td>158</td>\n",
              "      <td>156</td>\n",
              "      <td>154</td>\n",
              "      <td>154</td>\n",
              "      <td>153</td>\n",
              "      <td>152</td>\n",
              "      <td>151</td>\n",
              "      <td>149</td>\n",
              "      <td>149</td>\n",
              "      <td>148</td>\n",
              "      <td>147</td>\n",
              "      <td>146</td>\n",
              "      <td>144</td>\n",
              "      <td>142</td>\n",
              "      <td>143</td>\n",
              "      <td>138</td>\n",
              "      <td>92</td>\n",
              "      <td>108</td>\n",
              "      <td>158</td>\n",
              "      <td>159</td>\n",
              "      <td>159</td>\n",
              "      <td>159</td>\n",
              "      <td>160</td>\n",
              "      <td>160</td>\n",
              "      <td>160</td>\n",
              "      <td>160</td>\n",
              "      <td>160</td>\n",
              "      <td>160</td>\n",
              "      <td>160</td>\n",
              "      <td>...</td>\n",
              "      <td>100</td>\n",
              "      <td>78</td>\n",
              "      <td>120</td>\n",
              "      <td>157</td>\n",
              "      <td>168</td>\n",
              "      <td>107</td>\n",
              "      <td>99</td>\n",
              "      <td>121</td>\n",
              "      <td>133</td>\n",
              "      <td>97</td>\n",
              "      <td>95</td>\n",
              "      <td>120</td>\n",
              "      <td>135</td>\n",
              "      <td>116</td>\n",
              "      <td>95</td>\n",
              "      <td>79</td>\n",
              "      <td>69</td>\n",
              "      <td>86</td>\n",
              "      <td>139</td>\n",
              "      <td>173</td>\n",
              "      <td>200</td>\n",
              "      <td>185</td>\n",
              "      <td>175</td>\n",
              "      <td>198</td>\n",
              "      <td>124</td>\n",
              "      <td>118</td>\n",
              "      <td>94</td>\n",
              "      <td>140</td>\n",
              "      <td>133</td>\n",
              "      <td>84</td>\n",
              "      <td>69</td>\n",
              "      <td>149</td>\n",
              "      <td>128</td>\n",
              "      <td>87</td>\n",
              "      <td>94</td>\n",
              "      <td>163</td>\n",
              "      <td>175</td>\n",
              "      <td>103</td>\n",
              "      <td>135</td>\n",
              "      <td>149</td>\n",
              "    </tr>\n",
              "    <tr>\n",
              "      <th>2</th>\n",
              "      <td>2</td>\n",
              "      <td>187</td>\n",
              "      <td>188</td>\n",
              "      <td>188</td>\n",
              "      <td>187</td>\n",
              "      <td>187</td>\n",
              "      <td>186</td>\n",
              "      <td>187</td>\n",
              "      <td>188</td>\n",
              "      <td>187</td>\n",
              "      <td>186</td>\n",
              "      <td>185</td>\n",
              "      <td>185</td>\n",
              "      <td>185</td>\n",
              "      <td>184</td>\n",
              "      <td>184</td>\n",
              "      <td>184</td>\n",
              "      <td>181</td>\n",
              "      <td>181</td>\n",
              "      <td>179</td>\n",
              "      <td>179</td>\n",
              "      <td>179</td>\n",
              "      <td>178</td>\n",
              "      <td>178</td>\n",
              "      <td>109</td>\n",
              "      <td>52</td>\n",
              "      <td>66</td>\n",
              "      <td>77</td>\n",
              "      <td>83</td>\n",
              "      <td>188</td>\n",
              "      <td>189</td>\n",
              "      <td>189</td>\n",
              "      <td>188</td>\n",
              "      <td>188</td>\n",
              "      <td>189</td>\n",
              "      <td>188</td>\n",
              "      <td>188</td>\n",
              "      <td>188</td>\n",
              "      <td>188</td>\n",
              "      <td>187</td>\n",
              "      <td>...</td>\n",
              "      <td>203</td>\n",
              "      <td>204</td>\n",
              "      <td>203</td>\n",
              "      <td>201</td>\n",
              "      <td>200</td>\n",
              "      <td>200</td>\n",
              "      <td>199</td>\n",
              "      <td>198</td>\n",
              "      <td>196</td>\n",
              "      <td>195</td>\n",
              "      <td>194</td>\n",
              "      <td>193</td>\n",
              "      <td>198</td>\n",
              "      <td>166</td>\n",
              "      <td>132</td>\n",
              "      <td>114</td>\n",
              "      <td>89</td>\n",
              "      <td>74</td>\n",
              "      <td>79</td>\n",
              "      <td>77</td>\n",
              "      <td>74</td>\n",
              "      <td>78</td>\n",
              "      <td>132</td>\n",
              "      <td>188</td>\n",
              "      <td>210</td>\n",
              "      <td>209</td>\n",
              "      <td>206</td>\n",
              "      <td>205</td>\n",
              "      <td>204</td>\n",
              "      <td>203</td>\n",
              "      <td>202</td>\n",
              "      <td>201</td>\n",
              "      <td>200</td>\n",
              "      <td>199</td>\n",
              "      <td>198</td>\n",
              "      <td>199</td>\n",
              "      <td>198</td>\n",
              "      <td>195</td>\n",
              "      <td>194</td>\n",
              "      <td>195</td>\n",
              "    </tr>\n",
              "    <tr>\n",
              "      <th>3</th>\n",
              "      <td>2</td>\n",
              "      <td>211</td>\n",
              "      <td>211</td>\n",
              "      <td>212</td>\n",
              "      <td>212</td>\n",
              "      <td>211</td>\n",
              "      <td>210</td>\n",
              "      <td>211</td>\n",
              "      <td>210</td>\n",
              "      <td>210</td>\n",
              "      <td>211</td>\n",
              "      <td>209</td>\n",
              "      <td>207</td>\n",
              "      <td>208</td>\n",
              "      <td>207</td>\n",
              "      <td>206</td>\n",
              "      <td>203</td>\n",
              "      <td>202</td>\n",
              "      <td>201</td>\n",
              "      <td>200</td>\n",
              "      <td>198</td>\n",
              "      <td>197</td>\n",
              "      <td>195</td>\n",
              "      <td>192</td>\n",
              "      <td>197</td>\n",
              "      <td>171</td>\n",
              "      <td>51</td>\n",
              "      <td>52</td>\n",
              "      <td>54</td>\n",
              "      <td>212</td>\n",
              "      <td>213</td>\n",
              "      <td>215</td>\n",
              "      <td>215</td>\n",
              "      <td>212</td>\n",
              "      <td>212</td>\n",
              "      <td>213</td>\n",
              "      <td>212</td>\n",
              "      <td>212</td>\n",
              "      <td>211</td>\n",
              "      <td>211</td>\n",
              "      <td>...</td>\n",
              "      <td>247</td>\n",
              "      <td>242</td>\n",
              "      <td>233</td>\n",
              "      <td>231</td>\n",
              "      <td>230</td>\n",
              "      <td>229</td>\n",
              "      <td>227</td>\n",
              "      <td>225</td>\n",
              "      <td>223</td>\n",
              "      <td>221</td>\n",
              "      <td>220</td>\n",
              "      <td>216</td>\n",
              "      <td>58</td>\n",
              "      <td>51</td>\n",
              "      <td>49</td>\n",
              "      <td>50</td>\n",
              "      <td>57</td>\n",
              "      <td>60</td>\n",
              "      <td>17</td>\n",
              "      <td>15</td>\n",
              "      <td>18</td>\n",
              "      <td>17</td>\n",
              "      <td>19</td>\n",
              "      <td>1</td>\n",
              "      <td>159</td>\n",
              "      <td>255</td>\n",
              "      <td>237</td>\n",
              "      <td>239</td>\n",
              "      <td>237</td>\n",
              "      <td>236</td>\n",
              "      <td>235</td>\n",
              "      <td>234</td>\n",
              "      <td>233</td>\n",
              "      <td>231</td>\n",
              "      <td>230</td>\n",
              "      <td>226</td>\n",
              "      <td>225</td>\n",
              "      <td>222</td>\n",
              "      <td>229</td>\n",
              "      <td>163</td>\n",
              "    </tr>\n",
              "    <tr>\n",
              "      <th>4</th>\n",
              "      <td>13</td>\n",
              "      <td>164</td>\n",
              "      <td>167</td>\n",
              "      <td>170</td>\n",
              "      <td>172</td>\n",
              "      <td>176</td>\n",
              "      <td>179</td>\n",
              "      <td>180</td>\n",
              "      <td>184</td>\n",
              "      <td>185</td>\n",
              "      <td>186</td>\n",
              "      <td>188</td>\n",
              "      <td>189</td>\n",
              "      <td>189</td>\n",
              "      <td>190</td>\n",
              "      <td>191</td>\n",
              "      <td>189</td>\n",
              "      <td>190</td>\n",
              "      <td>190</td>\n",
              "      <td>187</td>\n",
              "      <td>190</td>\n",
              "      <td>192</td>\n",
              "      <td>193</td>\n",
              "      <td>191</td>\n",
              "      <td>191</td>\n",
              "      <td>192</td>\n",
              "      <td>192</td>\n",
              "      <td>194</td>\n",
              "      <td>194</td>\n",
              "      <td>166</td>\n",
              "      <td>169</td>\n",
              "      <td>172</td>\n",
              "      <td>174</td>\n",
              "      <td>177</td>\n",
              "      <td>180</td>\n",
              "      <td>182</td>\n",
              "      <td>185</td>\n",
              "      <td>186</td>\n",
              "      <td>187</td>\n",
              "      <td>190</td>\n",
              "      <td>...</td>\n",
              "      <td>90</td>\n",
              "      <td>77</td>\n",
              "      <td>88</td>\n",
              "      <td>117</td>\n",
              "      <td>123</td>\n",
              "      <td>127</td>\n",
              "      <td>129</td>\n",
              "      <td>134</td>\n",
              "      <td>145</td>\n",
              "      <td>152</td>\n",
              "      <td>156</td>\n",
              "      <td>179</td>\n",
              "      <td>105</td>\n",
              "      <td>106</td>\n",
              "      <td>105</td>\n",
              "      <td>104</td>\n",
              "      <td>104</td>\n",
              "      <td>104</td>\n",
              "      <td>175</td>\n",
              "      <td>199</td>\n",
              "      <td>178</td>\n",
              "      <td>152</td>\n",
              "      <td>136</td>\n",
              "      <td>130</td>\n",
              "      <td>136</td>\n",
              "      <td>150</td>\n",
              "      <td>118</td>\n",
              "      <td>92</td>\n",
              "      <td>85</td>\n",
              "      <td>76</td>\n",
              "      <td>92</td>\n",
              "      <td>105</td>\n",
              "      <td>105</td>\n",
              "      <td>108</td>\n",
              "      <td>133</td>\n",
              "      <td>163</td>\n",
              "      <td>157</td>\n",
              "      <td>163</td>\n",
              "      <td>164</td>\n",
              "      <td>179</td>\n",
              "    </tr>\n",
              "  </tbody>\n",
              "</table>\n",
              "<p>5 rows × 785 columns</p>\n",
              "</div>"
            ],
            "text/plain": [
              "   label  pixel1  pixel2  pixel3  ...  pixel781  pixel782  pixel783  pixel784\n",
              "0      3     107     118     127  ...       206       204       203       202\n",
              "1      6     155     157     156  ...       175       103       135       149\n",
              "2      2     187     188     188  ...       198       195       194       195\n",
              "3      2     211     211     212  ...       225       222       229       163\n",
              "4     13     164     167     170  ...       157       163       164       179\n",
              "\n",
              "[5 rows x 785 columns]"
            ]
          },
          "metadata": {
            "tags": []
          },
          "execution_count": 7
        }
      ]
    },
    {
      "cell_type": "code",
      "metadata": {
        "id": "5HJ5IMTj81at",
        "colab_type": "code",
        "outputId": "706ac84d-e1fc-4132-a843-53b9f96f4d9d",
        "colab": {
          "base_uri": "https://localhost:8080/",
          "height": 34
        }
      },
      "source": [
        "ds_train.shape"
      ],
      "execution_count": 0,
      "outputs": [
        {
          "output_type": "execute_result",
          "data": {
            "text/plain": [
              "(7172, 785)"
            ]
          },
          "metadata": {
            "tags": []
          },
          "execution_count": 10
        }
      ]
    },
    {
      "cell_type": "code",
      "metadata": {
        "id": "Wf6kr5wr7QtH",
        "colab_type": "code",
        "outputId": "dcf22868-7d11-45f4-d47b-c2d3e2c5b17b",
        "colab": {
          "base_uri": "https://localhost:8080/",
          "height": 34
        }
      },
      "source": [
        "ds_test.shape"
      ],
      "execution_count": 0,
      "outputs": [
        {
          "output_type": "execute_result",
          "data": {
            "text/plain": [
              "(7172, 785)"
            ]
          },
          "metadata": {
            "tags": []
          },
          "execution_count": 11
        }
      ]
    },
    {
      "cell_type": "code",
      "metadata": {
        "id": "-ne6br_N7Yru",
        "colab_type": "code",
        "colab": {}
      },
      "source": [
        "label_train = ds_train[\"label\"].values"
      ],
      "execution_count": 0,
      "outputs": []
    },
    {
      "cell_type": "code",
      "metadata": {
        "id": "qcBFmX-o7gPZ",
        "colab_type": "code",
        "outputId": "16c19ba9-d8d7-424a-e4df-2139ed71811d",
        "colab": {
          "base_uri": "https://localhost:8080/",
          "height": 50
        }
      },
      "source": [
        "value_train = np.array(label_train)\n",
        "np.unique(value_train)"
      ],
      "execution_count": 0,
      "outputs": [
        {
          "output_type": "execute_result",
          "data": {
            "text/plain": [
              "array([ 0,  1,  2,  3,  4,  5,  6,  7,  8, 10, 11, 12, 13, 14, 15, 16, 17,\n",
              "       18, 19, 20, 21, 22, 23, 24])"
            ]
          },
          "metadata": {
            "tags": []
          },
          "execution_count": 16
        }
      ]
    },
    {
      "cell_type": "code",
      "metadata": {
        "id": "JdIE0zal766B",
        "colab_type": "code",
        "outputId": "ec075f78-bff4-45f7-8e96-34d4f17eab43",
        "colab": {
          "base_uri": "https://localhost:8080/",
          "height": 50
        }
      },
      "source": [
        "value_test = np.array(label_test)\n",
        "np.unique(value_test)"
      ],
      "execution_count": 0,
      "outputs": [
        {
          "output_type": "execute_result",
          "data": {
            "text/plain": [
              "array([ 0,  1,  2,  3,  4,  5,  6,  7,  8, 10, 11, 12, 13, 14, 15, 16, 17,\n",
              "       18, 19, 20, 21, 22, 23, 24])"
            ]
          },
          "metadata": {
            "tags": []
          },
          "execution_count": 17
        }
      ]
    },
    {
      "cell_type": "code",
      "metadata": {
        "id": "sNSSuypT8QbB",
        "colab_type": "code",
        "outputId": "cc1c9b2d-4df4-4ae0-95cd-e076325c12fa",
        "colab": {
          "base_uri": "https://localhost:8080/",
          "height": 296
        }
      },
      "source": [
        "sns.distplot(ds_train[\"label\"])"
      ],
      "execution_count": 0,
      "outputs": [
        {
          "output_type": "execute_result",
          "data": {
            "text/plain": [
              "<matplotlib.axes._subplots.AxesSubplot at 0x7fca5f606518>"
            ]
          },
          "metadata": {
            "tags": []
          },
          "execution_count": 18
        },
        {
          "output_type": "display_data",
          "data": {
            "image/png": "[encoded data removed]",
            "text/plain": [
              "<Figure size 432x288 with 1 Axes>"
            ]
          },
          "metadata": {
            "tags": []
          }
        }
      ]
    },
    {
      "cell_type": "code",
      "metadata": {
        "id": "S6ABlJ2XApT1",
        "colab_type": "code",
        "outputId": "08ac0ca4-2864-413b-e2ce-0a0015236047",
        "colab": {
          "base_uri": "https://localhost:8080/",
          "height": 297
        }
      },
      "source": [
        "sns.distplot(ds_test[\"label\"])"
      ],
      "execution_count": 0,
      "outputs": [
        {
          "output_type": "execute_result",
          "data": {
            "text/plain": [
              "<matplotlib.axes._subplots.AxesSubplot at 0x7fca5d56b2b0>"
            ]
          },
          "metadata": {
            "tags": []
          },
          "execution_count": 20
        },
        {
          "output_type": "display_data",
          "data": {
            "image/png": "[encoded data removed]",
            "text/plain": [
              "<Figure size 432x288 with 1 Axes>"
            ]
          },
          "metadata": {
            "tags": []
          }
        }
      ]
    },
    {
      "cell_type": "code",
      "metadata": {
        "id": "nFmDeTl3DNUu",
        "colab_type": "code",
        "colab": {}
      },
      "source": [
        "img_train = ds_train.values\n",
        "img_train = np.array([np.reshape(i, (28, 28)) for i in img_train])"
      ],
      "execution_count": 0,
      "outputs": []
    },
    {
      "cell_type": "code",
      "metadata": {
        "id": "gS3nnZcrDvIo",
        "colab_type": "code",
        "outputId": "3d12aed3-d0a5-4ae0-ee14-a1b815ec53c3",
        "colab": {
          "base_uri": "https://localhost:8080/",
          "height": 134
        }
      },
      "source": [
        "label_binarizer = LabelBinarizer()\n",
        "label_train = label_binarizer.fit_transform(label_train)\n",
        "label_train"
      ],
      "execution_count": 0,
      "outputs": [
        {
          "output_type": "execute_result",
          "data": {
            "text/plain": [
              "array([[0, 0, 0, ..., 0, 0, 0],\n",
              "       [0, 0, 0, ..., 0, 0, 0],\n",
              "       [0, 0, 1, ..., 0, 0, 0],\n",
              "       ...,\n",
              "       [0, 0, 0, ..., 0, 0, 0],\n",
              "       [0, 0, 0, ..., 0, 0, 0],\n",
              "       [0, 0, 0, ..., 0, 1, 0]], dtype=int64)"
            ]
          },
          "metadata": {
            "tags": []
          },
          "execution_count": 29
        }
      ]
    },
    {
      "cell_type": "code",
      "metadata": {
        "id": "H9KZTwiNEjTj",
        "colab_type": "code",
        "outputId": "8e14580a-31d0-4716-a971-39a1d8afde0e",
        "colab": {
          "base_uri": "https://localhost:8080/",
          "height": 282
        }
      },
      "source": [
        "plt.imshow(img_train[4].reshape(28, 28))"
      ],
      "execution_count": 0,
      "outputs": [
        {
          "output_type": "execute_result",
          "data": {
            "text/plain": [
              "<matplotlib.image.AxesImage at 0x7fca5c0290f0>"
            ]
          },
          "metadata": {
            "tags": []
          },
          "execution_count": 33
        },
        {
          "output_type": "display_data",
          "data": {
            "image/png": "[encoded data removed]",
            "text/plain": [
              "<Figure size 432x288 with 1 Axes>"
            ]
          },
          "metadata": {
            "tags": []
          }
        }
      ]
    },
    {
      "cell_type": "code",
      "metadata": {
        "id": "-oiuYzQCGvZe",
        "colab_type": "code",
        "colab": {}
      },
      "source": [
        "x_train, x_test, y_train, y_test = train_test_split(img_train, label_train, test_size = 0.3, random_state = 101)"
      ],
      "execution_count": 0,
      "outputs": []
    },
    {
      "cell_type": "code",
      "metadata": {
        "id": "erVQbuhcG47D",
        "colab_type": "code",
        "colab": {}
      },
      "source": [
        "BS = 50\n",
        "NC = 24\n",
        "# 50\n",
        "EP = 10\n",
        "N = 255"
      ],
      "execution_count": 0,
      "outputs": []
    },
    {
      "cell_type": "code",
      "metadata": {
        "id": "yuqfI_QfHC9W",
        "colab_type": "code",
        "colab": {}
      },
      "source": [
        "# 0 is white\n",
        "# 255 is black\n",
        "# (0,255) is grey\n",
        "x_train = x_train / N\n",
        "x_test = x_test / N"
      ],
      "execution_count": 0,
      "outputs": []
    },
    {
      "cell_type": "code",
      "metadata": {
        "id": "PngcZjiSHO0V",
        "colab_type": "code",
        "colab": {}
      },
      "source": [
        "x_train = x_train.reshape(x_train.shape[0], 28, 28, 1)"
      ],
      "execution_count": 0,
      "outputs": []
    },
    {
      "cell_type": "code",
      "metadata": {
        "id": "ywvK5dX8Hf2F",
        "colab_type": "code",
        "colab": {}
      },
      "source": [
        "x_test = x_test.reshape(x_test.shape[0], 28, 28, 1)"
      ],
      "execution_count": 0,
      "outputs": []
    },
    {
      "cell_type": "code",
      "metadata": {
        "id": "t3y46sn9Jk5R",
        "colab_type": "code",
        "outputId": "ec593c90-6e0d-411e-9033-2e83c73257f3",
        "colab": {
          "base_uri": "https://localhost:8080/",
          "height": 282
        }
      },
      "source": [
        "plt.imshow(x_train[3].reshape(28,28))"
      ],
      "execution_count": 68,
      "outputs": [
        {
          "output_type": "execute_result",
          "data": {
            "text/plain": [
              "<matplotlib.image.AxesImage at 0x7fc9d4aeb4e0>"
            ]
          },
          "metadata": {
            "tags": []
          },
          "execution_count": 68
        },
        {
          "output_type": "display_data",
          "data": {
            "image/png": "[encoded data removed]",
            "text/plain": [
              "<Figure size 432x288 with 1 Axes>"
            ]
          },
          "metadata": {
            "tags": []
          }
        }
      ]
    },
    {
      "cell_type": "code",
      "metadata": {
        "id": "KIKrqlJRZ-jS",
        "colab_type": "code",
        "colab": {}
      },
      "source": [
        "model = Sequential()\n",
        "model.add(Conv2D(64, kernel_size=(3,3), activation = 'relu', input_shape=(28, 28 ,1) ))\n",
        "model.add(MaxPooling2D(pool_size = (2, 2)))\n",
        "\n",
        "model.add(Conv2D(64, kernel_size = (3, 3), activation = 'relu'))\n",
        "model.add(MaxPooling2D(pool_size = (2, 2)))\n",
        "\n",
        "model.add(Conv2D(64, kernel_size = (3, 3), activation = 'relu'))\n",
        "model.add(MaxPooling2D(pool_size = (2, 2)))\n",
        "\n",
        "model.add(Flatten())\n",
        "model.add(Dense(128, activation = 'relu'))\n",
        "model.add(Dropout(0.20))\n",
        "# softmaxt\n",
        "model.add(Dense(NC, activation = 'sigmoid'))"
      ],
      "execution_count": 0,
      "outputs": []
    },
    {
      "cell_type": "code",
      "metadata": {
        "id": "cA8fRthGaW_C",
        "colab_type": "code",
        "colab": {}
      },
      "source": [
        "model.compile(loss = keras.losses.categorical_crossentropy, \n",
        "              optimizer=keras.optimizers.Adam(),\n",
        "              metrics=['accuracy'])"
      ],
      "execution_count": 0,
      "outputs": []
    },
    {
      "cell_type": "code",
      "metadata": {
        "id": "jhURxCy5adLk",
        "colab_type": "code",
        "colab": {
          "base_uri": "https://localhost:8080/",
          "height": 373
        },
        "outputId": "9eb029d0-3fd8-454e-997e-392e3be6c270"
      },
      "source": [
        "H = model.fit(x_train, y_train, validation_data = (x_test, y_test), \n",
        "                    epochs= EP, batch_size= BS)"
      ],
      "execution_count": 73,
      "outputs": [
        {
          "output_type": "stream",
          "text": [
            "Epoch 1/10\n",
            "385/385 [==============================] - 26s 68ms/step - loss: 3.1774 - accuracy: 0.0440 - val_loss: 3.1765 - val_accuracy: 0.0418\n",
            "Epoch 2/10\n",
            "385/385 [==============================] - 26s 68ms/step - loss: 3.1763 - accuracy: 0.0459 - val_loss: 3.1760 - val_accuracy: 0.0488\n",
            "Epoch 3/10\n",
            "385/385 [==============================] - 26s 68ms/step - loss: 3.1762 - accuracy: 0.0467 - val_loss: 3.1761 - val_accuracy: 0.0418\n",
            "Epoch 4/10\n",
            "385/385 [==============================] - 26s 68ms/step - loss: 3.1760 - accuracy: 0.0460 - val_loss: 3.1761 - val_accuracy: 0.0418\n",
            "Epoch 5/10\n",
            "385/385 [==============================] - 26s 68ms/step - loss: 3.1759 - accuracy: 0.0455 - val_loss: 3.1760 - val_accuracy: 0.0418\n",
            "Epoch 6/10\n",
            "385/385 [==============================] - 26s 67ms/step - loss: 3.1759 - accuracy: 0.0457 - val_loss: 3.1760 - val_accuracy: 0.0418\n",
            "Epoch 7/10\n",
            "385/385 [==============================] - 26s 67ms/step - loss: 3.1759 - accuracy: 0.0454 - val_loss: 3.1760 - val_accuracy: 0.0418\n",
            "Epoch 8/10\n",
            "385/385 [==============================] - 26s 67ms/step - loss: 3.1758 - accuracy: 0.0457 - val_loss: 3.1760 - val_accuracy: 0.0418\n",
            "Epoch 9/10\n",
            "385/385 [==============================] - 26s 68ms/step - loss: 3.1758 - accuracy: 0.0447 - val_loss: 3.1760 - val_accuracy: 0.0418\n",
            "Epoch 10/10\n",
            "385/385 [==============================] - 26s 68ms/step - loss: 3.1757 - accuracy: 0.0441 - val_loss: 3.1761 - val_accuracy: 0.0418\n"
          ],
          "name": "stdout"
        }
      ]
    },
    {
      "cell_type": "code",
      "metadata": {
        "id": "_poH9UQ1hIxd",
        "colab_type": "code",
        "colab": {
          "base_uri": "https://localhost:8080/",
          "height": 279
        },
        "outputId": "95771ef2-3ace-40d4-885d-183086d52878"
      },
      "source": [
        "# HARUS DIPERBAIKI !!!\n",
        "plt.plot(H.history['accuracy'])\n",
        "plt.plot(H.history['val_accuracy'])\n",
        "plt.xlabel('epochs')\n",
        "plt.ylabel('accuracy')\n",
        "plt.legend(['train', 'test'])\n",
        "plt.show()"
      ],
      "execution_count": 74,
      "outputs": [
        {
          "output_type": "display_data",
          "data": {
            "image/png": "[encoded data removed]",
            "text/plain": [
              "<Figure size 432x288 with 1 Axes>"
            ]
          },
          "metadata": {
            "tags": []
          }
        }
      ]
    },
    {
      "cell_type": "code",
      "metadata": {
        "id": "lXXYAgHBpwAw",
        "colab_type": "code",
        "colab": {
          "base_uri": "https://localhost:8080/",
          "height": 282
        },
        "outputId": "3705fb05-39a8-4c29-ba72-541d5429888d"
      },
      "source": [
        "# HARUS DIPERBAIKI\n",
        "plt.plot(H.history['loss'])\n",
        "plt.plot(H.history['val_loss'])\n",
        "plt.xlabel('epochs')\n",
        "plt.ylabel('loss')\n",
        "plt.legend(['train', 'test'])\n",
        "plt.show()"
      ],
      "execution_count": 78,
      "outputs": [
        {
          "output_type": "display_data",
          "data": {
            "image/png": "[encoded data removed]",
            "text/plain": [
              "<Figure size 432x288 with 1 Axes>"
            ]
          },
          "metadata": {
            "tags": []
          }
        }
      ]
    },
    {
      "cell_type": "code",
      "metadata": {
        "id": "Rc7etj_cp731",
        "colab_type": "code",
        "colab": {}
      },
      "source": [
        "label_test = ds_test['label']"
      ],
      "execution_count": 0,
      "outputs": []
    },
    {
      "cell_type": "code",
      "metadata": {
        "id": "i4YsUBacqbtK",
        "colab_type": "code",
        "colab": {}
      },
      "source": [
        "ds_test.drop('label', axis = 1, inplace = True)"
      ],
      "execution_count": 0,
      "outputs": []
    },
    {
      "cell_type": "code",
      "metadata": {
        "id": "lUB2W3s5q58w",
        "colab_type": "code",
        "colab": {}
      },
      "source": [
        "img_test = ds_test.values\n",
        "img_test = np.array([np.reshape(i, (28, 28)) for i in img_test])\n",
        "img_test = np.array([i.flatten() for i in img_test])"
      ],
      "execution_count": 0,
      "outputs": []
    },
    {
      "cell_type": "code",
      "metadata": {
        "id": "rkcC0AlxrDCp",
        "colab_type": "code",
        "colab": {}
      },
      "source": [
        "label_test = label_binarizer.fit_transform(label_test)"
      ],
      "execution_count": 0,
      "outputs": []
    },
    {
      "cell_type": "code",
      "metadata": {
        "id": "XS6dig6RrspR",
        "colab_type": "code",
        "colab": {}
      },
      "source": [
        "img_test = img_test.reshape(img_test.shape[0], 28,28,1)"
      ],
      "execution_count": 0,
      "outputs": []
    },
    {
      "cell_type": "code",
      "metadata": {
        "id": "J_y1pA0Tr3Xk",
        "colab_type": "code",
        "colab": {
          "base_uri": "https://localhost:8080/",
          "height": 34
        },
        "outputId": "b484909f-9e64-4000-b42c-a8f5088a2e77"
      },
      "source": [
        "img_test.shape\n"
      ],
      "execution_count": 85,
      "outputs": [
        {
          "output_type": "execute_result",
          "data": {
            "text/plain": [
              "(7172, 28, 28, 1)"
            ]
          },
          "metadata": {
            "tags": []
          },
          "execution_count": 85
        }
      ]
    },
    {
      "cell_type": "code",
      "metadata": {
        "id": "-b4rBuSGr58W",
        "colab_type": "code",
        "colab": {}
      },
      "source": [
        "label_predict = model.predict(img_test)"
      ],
      "execution_count": 0,
      "outputs": []
    },
    {
      "cell_type": "code",
      "metadata": {
        "id": "eelt13zHsQCH",
        "colab_type": "code",
        "colab": {
          "base_uri": "https://localhost:8080/",
          "height": 34
        },
        "outputId": "271c2b28-a37c-43b0-a9a2-6dcc9a579e99"
      },
      "source": [
        "accuracy_score(label_test, label_predict.round())"
      ],
      "execution_count": 88,
      "outputs": [
        {
          "output_type": "execute_result",
          "data": {
            "text/plain": [
              "0.0"
            ]
          },
          "metadata": {
            "tags": []
          },
          "execution_count": 88
        }
      ]
    }
  ]
}