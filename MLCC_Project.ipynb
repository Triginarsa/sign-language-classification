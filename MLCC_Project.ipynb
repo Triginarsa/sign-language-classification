{
  "nbformat": 4,
  "nbformat_minor": 0,
  "metadata": {
    "colab": {
      "name": "Copy of MLCC-Project.ipynb",
      "provenance": [],
      "collapsed_sections": [],
      "include_colab_link": true
    },
    "kernelspec": {
      "name": "python3",
      "display_name": "Python 3"
    }
  },
  "cells": [
    {
      "cell_type": "markdown",
      "metadata": {
        "id": "view-in-github",
        "colab_type": "text"
      },
      "source": [
        "<a href=\"https://colab.research.google.com/github/moniccpratiwi/sign-language-classification/blob/adi-branch/MLCC_Project.ipynb\" target=\"_parent\"><img src=\"https://colab.research.google.com/assets/colab-badge.svg\" alt=\"Open In Colab\"/></a>"
      ]
    },
    {
      "cell_type": "markdown",
      "metadata": {
        "id": "f4ylb3rwV3Wq",
        "colab_type": "text"
      },
      "source": [
        "**SIGN LANGUAGE MNIST CLASSIFICATION**\n",
        "---\n",
        "\n",
        "\n",
        "---\n",
        "\n",
        "**About the Data**\n",
        "\n",
        "The original MNIST image dataset of handwritten digits is a popular benchmark for image-based machine learning methods but researchers have renewed efforts to update it and develop drop-in replacements that are more challenging for computer vision and original for real-world applications. As noted in one recent replacement called the Fashion-MNIST dataset, the Zalando researchers quoted the startling claim that \"Most pairs of MNIST digits (784 total pixels per sample) can be distinguished pretty well by just one pixel\". To stimulate the community to develop more drop-in replacements, the Sign Language MNIST is presented here and follows the same CSV format with labels and pixel values in single rows. The American Sign Language letter database of hand gestures represent a multi-class problem with 24 classes of letters (excluding J and Z which require motion).\n",
        "\n",
        "**Kaggle Link :** [Sign-language-mnist](https://www.kaggle.com/datamunge/sign-language-mnist)\n",
        "\n",
        "**Goal :** Classification sign language mnist (a-y alphabet)\n",
        "\n",
        "**Dataset   :** Dataset is given in the form of labels and pixel value from pixel 1 to pixel 784 so the image size is 28 * 28.\n",
        "\n",
        "**Model   :** Transfer Learning Model VGG-16"
      ]
    },
    {
      "cell_type": "markdown",
      "metadata": {
        "id": "VGBvJoGgWhxH",
        "colab_type": "text"
      },
      "source": [
        "## Preprocessing Data"
      ]
    },
    {
      "cell_type": "markdown",
      "metadata": {
        "id": "2BAPfX1FtRlP",
        "colab_type": "text"
      },
      "source": [
        "**1. Import Library**"
      ]
    },
    {
      "cell_type": "code",
      "metadata": {
        "id": "nN_TYJpStOid",
        "colab_type": "code",
        "colab": {}
      },
      "source": [
        "import numpy as np\n",
        "import pandas as pd\n",
        "from matplotlib import pyplot as plt\n",
        "import seaborn as sns"
      ],
      "execution_count": 0,
      "outputs": []
    },
    {
      "cell_type": "markdown",
      "metadata": {
        "id": "WQ_laXRTnTWk",
        "colab_type": "text"
      },
      "source": [
        "**2. Mount google drive to google colab**"
      ]
    },
    {
      "cell_type": "code",
      "metadata": {
        "id": "mnkXD_7Ci213",
        "colab_type": "code",
        "outputId": "3d5ec91c-1d92-4e69-bd05-33e71065bb98",
        "colab": {
          "base_uri": "https://localhost:8080/",
          "height": 34
        }
      },
      "source": [
        "from google.colab import drive\n",
        "drive.mount('/content/drive')"
      ],
      "execution_count": 43,
      "outputs": [
        {
          "output_type": "stream",
          "text": [
            "Drive already mounted at /content/drive; to attempt to forcibly remount, call drive.mount(\"/content/drive\", force_remount=True).\n"
          ],
          "name": "stdout"
        }
      ]
    },
    {
      "cell_type": "markdown",
      "metadata": {
        "id": "ZmXa4WEKnacq",
        "colab_type": "text"
      },
      "source": [
        "**3. Change directory to google drive folder (sign-language MLCC) to save the model in cloud folder**"
      ]
    },
    {
      "cell_type": "code",
      "metadata": {
        "id": "th0y36CgjZ8k",
        "colab_type": "code",
        "outputId": "21f8eb77-9b7b-497c-e55e-cb161cfa90c4",
        "colab": {
          "base_uri": "https://localhost:8080/",
          "height": 51
        }
      },
      "source": [
        "%cd drive/My Drive/sign-language MLCC"
      ],
      "execution_count": 46,
      "outputs": [
        {
          "output_type": "stream",
          "text": [
            "[Errno 2] No such file or directory: 'drive/My Drive/sign-language MLCC'\n",
            "/content/drive/My Drive/sign-language MLCC\n"
          ],
          "name": "stdout"
        }
      ]
    },
    {
      "cell_type": "markdown",
      "metadata": {
        "id": "huufD4GYoHm7",
        "colab_type": "text"
      },
      "source": [
        "**4. Read CSV file from dataset using pandas. And save to new variable**"
      ]
    },
    {
      "cell_type": "code",
      "metadata": {
        "id": "9_EKFlXf_BDL",
        "colab_type": "code",
        "colab": {}
      },
      "source": [
        "#Train Dataset\n",
        "train = pd.read_csv('/content/drive/My Drive/sign-language MLCC/sign_mnist_train.csv')\n",
        "#Test Dataset\n",
        "test = pd.read_csv('/content/drive/My Drive/sign-language MLCC/sign_mnist_test.csv')"
      ],
      "execution_count": 0,
      "outputs": []
    },
    {
      "cell_type": "code",
      "metadata": {
        "id": "8vTc-O5xkEFC",
        "colab_type": "code",
        "outputId": "70a793aa-b9cf-4c0c-d91e-deb1579ad3ed",
        "colab": {
          "base_uri": "https://localhost:8080/",
          "height": 439
        }
      },
      "source": [
        "#Read the dataset\n",
        "display(train)"
      ],
      "execution_count": 48,
      "outputs": [
        {
          "output_type": "display_data",
          "data": {
            "text/html": [
              "<div>\n",
              "<style scoped>\n",
              "    .dataframe tbody tr th:only-of-type {\n",
              "        vertical-align: middle;\n",
              "    }\n",
              "\n",
              "    .dataframe tbody tr th {\n",
              "        vertical-align: top;\n",
              "    }\n",
              "\n",
              "    .dataframe thead th {\n",
              "        text-align: right;\n",
              "    }\n",
              "</style>\n",
              "<table border=\"1\" class=\"dataframe\">\n",
              "  <thead>\n",
              "    <tr style=\"text-align: right;\">\n",
              "      <th></th>\n",
              "      <th>label</th>\n",
              "      <th>pixel1</th>\n",
              "      <th>pixel2</th>\n",
              "      <th>pixel3</th>\n",
              "      <th>pixel4</th>\n",
              "      <th>pixel5</th>\n",
              "      <th>pixel6</th>\n",
              "      <th>pixel7</th>\n",
              "      <th>pixel8</th>\n",
              "      <th>pixel9</th>\n",
              "      <th>pixel10</th>\n",
              "      <th>pixel11</th>\n",
              "      <th>pixel12</th>\n",
              "      <th>pixel13</th>\n",
              "      <th>pixel14</th>\n",
              "      <th>pixel15</th>\n",
              "      <th>pixel16</th>\n",
              "      <th>pixel17</th>\n",
              "      <th>pixel18</th>\n",
              "      <th>pixel19</th>\n",
              "      <th>pixel20</th>\n",
              "      <th>pixel21</th>\n",
              "      <th>pixel22</th>\n",
              "      <th>pixel23</th>\n",
              "      <th>pixel24</th>\n",
              "      <th>pixel25</th>\n",
              "      <th>pixel26</th>\n",
              "      <th>pixel27</th>\n",
              "      <th>pixel28</th>\n",
              "      <th>pixel29</th>\n",
              "      <th>pixel30</th>\n",
              "      <th>pixel31</th>\n",
              "      <th>pixel32</th>\n",
              "      <th>pixel33</th>\n",
              "      <th>pixel34</th>\n",
              "      <th>pixel35</th>\n",
              "      <th>pixel36</th>\n",
              "      <th>pixel37</th>\n",
              "      <th>pixel38</th>\n",
              "      <th>pixel39</th>\n",
              "      <th>...</th>\n",
              "      <th>pixel745</th>\n",
              "      <th>pixel746</th>\n",
              "      <th>pixel747</th>\n",
              "      <th>pixel748</th>\n",
              "      <th>pixel749</th>\n",
              "      <th>pixel750</th>\n",
              "      <th>pixel751</th>\n",
              "      <th>pixel752</th>\n",
              "      <th>pixel753</th>\n",
              "      <th>pixel754</th>\n",
              "      <th>pixel755</th>\n",
              "      <th>pixel756</th>\n",
              "      <th>pixel757</th>\n",
              "      <th>pixel758</th>\n",
              "      <th>pixel759</th>\n",
              "      <th>pixel760</th>\n",
              "      <th>pixel761</th>\n",
              "      <th>pixel762</th>\n",
              "      <th>pixel763</th>\n",
              "      <th>pixel764</th>\n",
              "      <th>pixel765</th>\n",
              "      <th>pixel766</th>\n",
              "      <th>pixel767</th>\n",
              "      <th>pixel768</th>\n",
              "      <th>pixel769</th>\n",
              "      <th>pixel770</th>\n",
              "      <th>pixel771</th>\n",
              "      <th>pixel772</th>\n",
              "      <th>pixel773</th>\n",
              "      <th>pixel774</th>\n",
              "      <th>pixel775</th>\n",
              "      <th>pixel776</th>\n",
              "      <th>pixel777</th>\n",
              "      <th>pixel778</th>\n",
              "      <th>pixel779</th>\n",
              "      <th>pixel780</th>\n",
              "      <th>pixel781</th>\n",
              "      <th>pixel782</th>\n",
              "      <th>pixel783</th>\n",
              "      <th>pixel784</th>\n",
              "    </tr>\n",
              "  </thead>\n",
              "  <tbody>\n",
              "    <tr>\n",
              "      <th>0</th>\n",
              "      <td>3</td>\n",
              "      <td>107</td>\n",
              "      <td>118</td>\n",
              "      <td>127</td>\n",
              "      <td>134</td>\n",
              "      <td>139</td>\n",
              "      <td>143</td>\n",
              "      <td>146</td>\n",
              "      <td>150</td>\n",
              "      <td>153</td>\n",
              "      <td>156</td>\n",
              "      <td>158</td>\n",
              "      <td>160</td>\n",
              "      <td>163</td>\n",
              "      <td>165</td>\n",
              "      <td>159</td>\n",
              "      <td>166</td>\n",
              "      <td>168</td>\n",
              "      <td>170</td>\n",
              "      <td>170</td>\n",
              "      <td>171</td>\n",
              "      <td>171</td>\n",
              "      <td>171</td>\n",
              "      <td>172</td>\n",
              "      <td>171</td>\n",
              "      <td>171</td>\n",
              "      <td>170</td>\n",
              "      <td>170</td>\n",
              "      <td>169</td>\n",
              "      <td>111</td>\n",
              "      <td>121</td>\n",
              "      <td>129</td>\n",
              "      <td>135</td>\n",
              "      <td>141</td>\n",
              "      <td>144</td>\n",
              "      <td>148</td>\n",
              "      <td>151</td>\n",
              "      <td>154</td>\n",
              "      <td>157</td>\n",
              "      <td>160</td>\n",
              "      <td>...</td>\n",
              "      <td>205</td>\n",
              "      <td>206</td>\n",
              "      <td>206</td>\n",
              "      <td>207</td>\n",
              "      <td>207</td>\n",
              "      <td>206</td>\n",
              "      <td>206</td>\n",
              "      <td>204</td>\n",
              "      <td>205</td>\n",
              "      <td>204</td>\n",
              "      <td>203</td>\n",
              "      <td>202</td>\n",
              "      <td>142</td>\n",
              "      <td>151</td>\n",
              "      <td>160</td>\n",
              "      <td>172</td>\n",
              "      <td>196</td>\n",
              "      <td>188</td>\n",
              "      <td>188</td>\n",
              "      <td>190</td>\n",
              "      <td>135</td>\n",
              "      <td>96</td>\n",
              "      <td>86</td>\n",
              "      <td>77</td>\n",
              "      <td>77</td>\n",
              "      <td>79</td>\n",
              "      <td>176</td>\n",
              "      <td>205</td>\n",
              "      <td>207</td>\n",
              "      <td>207</td>\n",
              "      <td>207</td>\n",
              "      <td>207</td>\n",
              "      <td>207</td>\n",
              "      <td>207</td>\n",
              "      <td>206</td>\n",
              "      <td>206</td>\n",
              "      <td>206</td>\n",
              "      <td>204</td>\n",
              "      <td>203</td>\n",
              "      <td>202</td>\n",
              "    </tr>\n",
              "    <tr>\n",
              "      <th>1</th>\n",
              "      <td>6</td>\n",
              "      <td>155</td>\n",
              "      <td>157</td>\n",
              "      <td>156</td>\n",
              "      <td>156</td>\n",
              "      <td>156</td>\n",
              "      <td>157</td>\n",
              "      <td>156</td>\n",
              "      <td>158</td>\n",
              "      <td>158</td>\n",
              "      <td>157</td>\n",
              "      <td>158</td>\n",
              "      <td>156</td>\n",
              "      <td>154</td>\n",
              "      <td>154</td>\n",
              "      <td>153</td>\n",
              "      <td>152</td>\n",
              "      <td>151</td>\n",
              "      <td>149</td>\n",
              "      <td>149</td>\n",
              "      <td>148</td>\n",
              "      <td>147</td>\n",
              "      <td>146</td>\n",
              "      <td>144</td>\n",
              "      <td>142</td>\n",
              "      <td>143</td>\n",
              "      <td>138</td>\n",
              "      <td>92</td>\n",
              "      <td>108</td>\n",
              "      <td>158</td>\n",
              "      <td>159</td>\n",
              "      <td>159</td>\n",
              "      <td>159</td>\n",
              "      <td>160</td>\n",
              "      <td>160</td>\n",
              "      <td>160</td>\n",
              "      <td>160</td>\n",
              "      <td>160</td>\n",
              "      <td>160</td>\n",
              "      <td>160</td>\n",
              "      <td>...</td>\n",
              "      <td>100</td>\n",
              "      <td>78</td>\n",
              "      <td>120</td>\n",
              "      <td>157</td>\n",
              "      <td>168</td>\n",
              "      <td>107</td>\n",
              "      <td>99</td>\n",
              "      <td>121</td>\n",
              "      <td>133</td>\n",
              "      <td>97</td>\n",
              "      <td>95</td>\n",
              "      <td>120</td>\n",
              "      <td>135</td>\n",
              "      <td>116</td>\n",
              "      <td>95</td>\n",
              "      <td>79</td>\n",
              "      <td>69</td>\n",
              "      <td>86</td>\n",
              "      <td>139</td>\n",
              "      <td>173</td>\n",
              "      <td>200</td>\n",
              "      <td>185</td>\n",
              "      <td>175</td>\n",
              "      <td>198</td>\n",
              "      <td>124</td>\n",
              "      <td>118</td>\n",
              "      <td>94</td>\n",
              "      <td>140</td>\n",
              "      <td>133</td>\n",
              "      <td>84</td>\n",
              "      <td>69</td>\n",
              "      <td>149</td>\n",
              "      <td>128</td>\n",
              "      <td>87</td>\n",
              "      <td>94</td>\n",
              "      <td>163</td>\n",
              "      <td>175</td>\n",
              "      <td>103</td>\n",
              "      <td>135</td>\n",
              "      <td>149</td>\n",
              "    </tr>\n",
              "    <tr>\n",
              "      <th>2</th>\n",
              "      <td>2</td>\n",
              "      <td>187</td>\n",
              "      <td>188</td>\n",
              "      <td>188</td>\n",
              "      <td>187</td>\n",
              "      <td>187</td>\n",
              "      <td>186</td>\n",
              "      <td>187</td>\n",
              "      <td>188</td>\n",
              "      <td>187</td>\n",
              "      <td>186</td>\n",
              "      <td>185</td>\n",
              "      <td>185</td>\n",
              "      <td>185</td>\n",
              "      <td>184</td>\n",
              "      <td>184</td>\n",
              "      <td>184</td>\n",
              "      <td>181</td>\n",
              "      <td>181</td>\n",
              "      <td>179</td>\n",
              "      <td>179</td>\n",
              "      <td>179</td>\n",
              "      <td>178</td>\n",
              "      <td>178</td>\n",
              "      <td>109</td>\n",
              "      <td>52</td>\n",
              "      <td>66</td>\n",
              "      <td>77</td>\n",
              "      <td>83</td>\n",
              "      <td>188</td>\n",
              "      <td>189</td>\n",
              "      <td>189</td>\n",
              "      <td>188</td>\n",
              "      <td>188</td>\n",
              "      <td>189</td>\n",
              "      <td>188</td>\n",
              "      <td>188</td>\n",
              "      <td>188</td>\n",
              "      <td>188</td>\n",
              "      <td>187</td>\n",
              "      <td>...</td>\n",
              "      <td>203</td>\n",
              "      <td>204</td>\n",
              "      <td>203</td>\n",
              "      <td>201</td>\n",
              "      <td>200</td>\n",
              "      <td>200</td>\n",
              "      <td>199</td>\n",
              "      <td>198</td>\n",
              "      <td>196</td>\n",
              "      <td>195</td>\n",
              "      <td>194</td>\n",
              "      <td>193</td>\n",
              "      <td>198</td>\n",
              "      <td>166</td>\n",
              "      <td>132</td>\n",
              "      <td>114</td>\n",
              "      <td>89</td>\n",
              "      <td>74</td>\n",
              "      <td>79</td>\n",
              "      <td>77</td>\n",
              "      <td>74</td>\n",
              "      <td>78</td>\n",
              "      <td>132</td>\n",
              "      <td>188</td>\n",
              "      <td>210</td>\n",
              "      <td>209</td>\n",
              "      <td>206</td>\n",
              "      <td>205</td>\n",
              "      <td>204</td>\n",
              "      <td>203</td>\n",
              "      <td>202</td>\n",
              "      <td>201</td>\n",
              "      <td>200</td>\n",
              "      <td>199</td>\n",
              "      <td>198</td>\n",
              "      <td>199</td>\n",
              "      <td>198</td>\n",
              "      <td>195</td>\n",
              "      <td>194</td>\n",
              "      <td>195</td>\n",
              "    </tr>\n",
              "    <tr>\n",
              "      <th>3</th>\n",
              "      <td>2</td>\n",
              "      <td>211</td>\n",
              "      <td>211</td>\n",
              "      <td>212</td>\n",
              "      <td>212</td>\n",
              "      <td>211</td>\n",
              "      <td>210</td>\n",
              "      <td>211</td>\n",
              "      <td>210</td>\n",
              "      <td>210</td>\n",
              "      <td>211</td>\n",
              "      <td>209</td>\n",
              "      <td>207</td>\n",
              "      <td>208</td>\n",
              "      <td>207</td>\n",
              "      <td>206</td>\n",
              "      <td>203</td>\n",
              "      <td>202</td>\n",
              "      <td>201</td>\n",
              "      <td>200</td>\n",
              "      <td>198</td>\n",
              "      <td>197</td>\n",
              "      <td>195</td>\n",
              "      <td>192</td>\n",
              "      <td>197</td>\n",
              "      <td>171</td>\n",
              "      <td>51</td>\n",
              "      <td>52</td>\n",
              "      <td>54</td>\n",
              "      <td>212</td>\n",
              "      <td>213</td>\n",
              "      <td>215</td>\n",
              "      <td>215</td>\n",
              "      <td>212</td>\n",
              "      <td>212</td>\n",
              "      <td>213</td>\n",
              "      <td>212</td>\n",
              "      <td>212</td>\n",
              "      <td>211</td>\n",
              "      <td>211</td>\n",
              "      <td>...</td>\n",
              "      <td>247</td>\n",
              "      <td>242</td>\n",
              "      <td>233</td>\n",
              "      <td>231</td>\n",
              "      <td>230</td>\n",
              "      <td>229</td>\n",
              "      <td>227</td>\n",
              "      <td>225</td>\n",
              "      <td>223</td>\n",
              "      <td>221</td>\n",
              "      <td>220</td>\n",
              "      <td>216</td>\n",
              "      <td>58</td>\n",
              "      <td>51</td>\n",
              "      <td>49</td>\n",
              "      <td>50</td>\n",
              "      <td>57</td>\n",
              "      <td>60</td>\n",
              "      <td>17</td>\n",
              "      <td>15</td>\n",
              "      <td>18</td>\n",
              "      <td>17</td>\n",
              "      <td>19</td>\n",
              "      <td>1</td>\n",
              "      <td>159</td>\n",
              "      <td>255</td>\n",
              "      <td>237</td>\n",
              "      <td>239</td>\n",
              "      <td>237</td>\n",
              "      <td>236</td>\n",
              "      <td>235</td>\n",
              "      <td>234</td>\n",
              "      <td>233</td>\n",
              "      <td>231</td>\n",
              "      <td>230</td>\n",
              "      <td>226</td>\n",
              "      <td>225</td>\n",
              "      <td>222</td>\n",
              "      <td>229</td>\n",
              "      <td>163</td>\n",
              "    </tr>\n",
              "    <tr>\n",
              "      <th>4</th>\n",
              "      <td>13</td>\n",
              "      <td>164</td>\n",
              "      <td>167</td>\n",
              "      <td>170</td>\n",
              "      <td>172</td>\n",
              "      <td>176</td>\n",
              "      <td>179</td>\n",
              "      <td>180</td>\n",
              "      <td>184</td>\n",
              "      <td>185</td>\n",
              "      <td>186</td>\n",
              "      <td>188</td>\n",
              "      <td>189</td>\n",
              "      <td>189</td>\n",
              "      <td>190</td>\n",
              "      <td>191</td>\n",
              "      <td>189</td>\n",
              "      <td>190</td>\n",
              "      <td>190</td>\n",
              "      <td>187</td>\n",
              "      <td>190</td>\n",
              "      <td>192</td>\n",
              "      <td>193</td>\n",
              "      <td>191</td>\n",
              "      <td>191</td>\n",
              "      <td>192</td>\n",
              "      <td>192</td>\n",
              "      <td>194</td>\n",
              "      <td>194</td>\n",
              "      <td>166</td>\n",
              "      <td>169</td>\n",
              "      <td>172</td>\n",
              "      <td>174</td>\n",
              "      <td>177</td>\n",
              "      <td>180</td>\n",
              "      <td>182</td>\n",
              "      <td>185</td>\n",
              "      <td>186</td>\n",
              "      <td>187</td>\n",
              "      <td>190</td>\n",
              "      <td>...</td>\n",
              "      <td>90</td>\n",
              "      <td>77</td>\n",
              "      <td>88</td>\n",
              "      <td>117</td>\n",
              "      <td>123</td>\n",
              "      <td>127</td>\n",
              "      <td>129</td>\n",
              "      <td>134</td>\n",
              "      <td>145</td>\n",
              "      <td>152</td>\n",
              "      <td>156</td>\n",
              "      <td>179</td>\n",
              "      <td>105</td>\n",
              "      <td>106</td>\n",
              "      <td>105</td>\n",
              "      <td>104</td>\n",
              "      <td>104</td>\n",
              "      <td>104</td>\n",
              "      <td>175</td>\n",
              "      <td>199</td>\n",
              "      <td>178</td>\n",
              "      <td>152</td>\n",
              "      <td>136</td>\n",
              "      <td>130</td>\n",
              "      <td>136</td>\n",
              "      <td>150</td>\n",
              "      <td>118</td>\n",
              "      <td>92</td>\n",
              "      <td>85</td>\n",
              "      <td>76</td>\n",
              "      <td>92</td>\n",
              "      <td>105</td>\n",
              "      <td>105</td>\n",
              "      <td>108</td>\n",
              "      <td>133</td>\n",
              "      <td>163</td>\n",
              "      <td>157</td>\n",
              "      <td>163</td>\n",
              "      <td>164</td>\n",
              "      <td>179</td>\n",
              "    </tr>\n",
              "    <tr>\n",
              "      <th>...</th>\n",
              "      <td>...</td>\n",
              "      <td>...</td>\n",
              "      <td>...</td>\n",
              "      <td>...</td>\n",
              "      <td>...</td>\n",
              "      <td>...</td>\n",
              "      <td>...</td>\n",
              "      <td>...</td>\n",
              "      <td>...</td>\n",
              "      <td>...</td>\n",
              "      <td>...</td>\n",
              "      <td>...</td>\n",
              "      <td>...</td>\n",
              "      <td>...</td>\n",
              "      <td>...</td>\n",
              "      <td>...</td>\n",
              "      <td>...</td>\n",
              "      <td>...</td>\n",
              "      <td>...</td>\n",
              "      <td>...</td>\n",
              "      <td>...</td>\n",
              "      <td>...</td>\n",
              "      <td>...</td>\n",
              "      <td>...</td>\n",
              "      <td>...</td>\n",
              "      <td>...</td>\n",
              "      <td>...</td>\n",
              "      <td>...</td>\n",
              "      <td>...</td>\n",
              "      <td>...</td>\n",
              "      <td>...</td>\n",
              "      <td>...</td>\n",
              "      <td>...</td>\n",
              "      <td>...</td>\n",
              "      <td>...</td>\n",
              "      <td>...</td>\n",
              "      <td>...</td>\n",
              "      <td>...</td>\n",
              "      <td>...</td>\n",
              "      <td>...</td>\n",
              "      <td>...</td>\n",
              "      <td>...</td>\n",
              "      <td>...</td>\n",
              "      <td>...</td>\n",
              "      <td>...</td>\n",
              "      <td>...</td>\n",
              "      <td>...</td>\n",
              "      <td>...</td>\n",
              "      <td>...</td>\n",
              "      <td>...</td>\n",
              "      <td>...</td>\n",
              "      <td>...</td>\n",
              "      <td>...</td>\n",
              "      <td>...</td>\n",
              "      <td>...</td>\n",
              "      <td>...</td>\n",
              "      <td>...</td>\n",
              "      <td>...</td>\n",
              "      <td>...</td>\n",
              "      <td>...</td>\n",
              "      <td>...</td>\n",
              "      <td>...</td>\n",
              "      <td>...</td>\n",
              "      <td>...</td>\n",
              "      <td>...</td>\n",
              "      <td>...</td>\n",
              "      <td>...</td>\n",
              "      <td>...</td>\n",
              "      <td>...</td>\n",
              "      <td>...</td>\n",
              "      <td>...</td>\n",
              "      <td>...</td>\n",
              "      <td>...</td>\n",
              "      <td>...</td>\n",
              "      <td>...</td>\n",
              "      <td>...</td>\n",
              "      <td>...</td>\n",
              "      <td>...</td>\n",
              "      <td>...</td>\n",
              "      <td>...</td>\n",
              "      <td>...</td>\n",
              "    </tr>\n",
              "    <tr>\n",
              "      <th>27450</th>\n",
              "      <td>13</td>\n",
              "      <td>189</td>\n",
              "      <td>189</td>\n",
              "      <td>190</td>\n",
              "      <td>190</td>\n",
              "      <td>192</td>\n",
              "      <td>193</td>\n",
              "      <td>193</td>\n",
              "      <td>193</td>\n",
              "      <td>193</td>\n",
              "      <td>194</td>\n",
              "      <td>193</td>\n",
              "      <td>193</td>\n",
              "      <td>194</td>\n",
              "      <td>194</td>\n",
              "      <td>195</td>\n",
              "      <td>195</td>\n",
              "      <td>196</td>\n",
              "      <td>194</td>\n",
              "      <td>195</td>\n",
              "      <td>196</td>\n",
              "      <td>196</td>\n",
              "      <td>197</td>\n",
              "      <td>196</td>\n",
              "      <td>197</td>\n",
              "      <td>197</td>\n",
              "      <td>196</td>\n",
              "      <td>195</td>\n",
              "      <td>195</td>\n",
              "      <td>189</td>\n",
              "      <td>190</td>\n",
              "      <td>192</td>\n",
              "      <td>192</td>\n",
              "      <td>193</td>\n",
              "      <td>194</td>\n",
              "      <td>195</td>\n",
              "      <td>196</td>\n",
              "      <td>196</td>\n",
              "      <td>196</td>\n",
              "      <td>193</td>\n",
              "      <td>...</td>\n",
              "      <td>115</td>\n",
              "      <td>92</td>\n",
              "      <td>132</td>\n",
              "      <td>173</td>\n",
              "      <td>118</td>\n",
              "      <td>84</td>\n",
              "      <td>53</td>\n",
              "      <td>135</td>\n",
              "      <td>253</td>\n",
              "      <td>213</td>\n",
              "      <td>219</td>\n",
              "      <td>208</td>\n",
              "      <td>82</td>\n",
              "      <td>82</td>\n",
              "      <td>84</td>\n",
              "      <td>85</td>\n",
              "      <td>85</td>\n",
              "      <td>87</td>\n",
              "      <td>84</td>\n",
              "      <td>87</td>\n",
              "      <td>78</td>\n",
              "      <td>113</td>\n",
              "      <td>216</td>\n",
              "      <td>189</td>\n",
              "      <td>172</td>\n",
              "      <td>175</td>\n",
              "      <td>155</td>\n",
              "      <td>131</td>\n",
              "      <td>116</td>\n",
              "      <td>93</td>\n",
              "      <td>132</td>\n",
              "      <td>165</td>\n",
              "      <td>99</td>\n",
              "      <td>77</td>\n",
              "      <td>52</td>\n",
              "      <td>200</td>\n",
              "      <td>234</td>\n",
              "      <td>200</td>\n",
              "      <td>222</td>\n",
              "      <td>225</td>\n",
              "    </tr>\n",
              "    <tr>\n",
              "      <th>27451</th>\n",
              "      <td>23</td>\n",
              "      <td>151</td>\n",
              "      <td>154</td>\n",
              "      <td>157</td>\n",
              "      <td>158</td>\n",
              "      <td>160</td>\n",
              "      <td>161</td>\n",
              "      <td>163</td>\n",
              "      <td>164</td>\n",
              "      <td>166</td>\n",
              "      <td>167</td>\n",
              "      <td>169</td>\n",
              "      <td>169</td>\n",
              "      <td>169</td>\n",
              "      <td>169</td>\n",
              "      <td>169</td>\n",
              "      <td>169</td>\n",
              "      <td>169</td>\n",
              "      <td>169</td>\n",
              "      <td>169</td>\n",
              "      <td>167</td>\n",
              "      <td>167</td>\n",
              "      <td>167</td>\n",
              "      <td>166</td>\n",
              "      <td>165</td>\n",
              "      <td>164</td>\n",
              "      <td>164</td>\n",
              "      <td>163</td>\n",
              "      <td>162</td>\n",
              "      <td>153</td>\n",
              "      <td>156</td>\n",
              "      <td>159</td>\n",
              "      <td>160</td>\n",
              "      <td>162</td>\n",
              "      <td>163</td>\n",
              "      <td>164</td>\n",
              "      <td>165</td>\n",
              "      <td>167</td>\n",
              "      <td>169</td>\n",
              "      <td>172</td>\n",
              "      <td>...</td>\n",
              "      <td>199</td>\n",
              "      <td>200</td>\n",
              "      <td>199</td>\n",
              "      <td>199</td>\n",
              "      <td>198</td>\n",
              "      <td>199</td>\n",
              "      <td>198</td>\n",
              "      <td>197</td>\n",
              "      <td>196</td>\n",
              "      <td>195</td>\n",
              "      <td>195</td>\n",
              "      <td>194</td>\n",
              "      <td>66</td>\n",
              "      <td>67</td>\n",
              "      <td>65</td>\n",
              "      <td>62</td>\n",
              "      <td>61</td>\n",
              "      <td>41</td>\n",
              "      <td>32</td>\n",
              "      <td>37</td>\n",
              "      <td>33</td>\n",
              "      <td>30</td>\n",
              "      <td>28</td>\n",
              "      <td>38</td>\n",
              "      <td>187</td>\n",
              "      <td>202</td>\n",
              "      <td>199</td>\n",
              "      <td>199</td>\n",
              "      <td>199</td>\n",
              "      <td>199</td>\n",
              "      <td>198</td>\n",
              "      <td>198</td>\n",
              "      <td>198</td>\n",
              "      <td>198</td>\n",
              "      <td>198</td>\n",
              "      <td>196</td>\n",
              "      <td>195</td>\n",
              "      <td>195</td>\n",
              "      <td>195</td>\n",
              "      <td>194</td>\n",
              "    </tr>\n",
              "    <tr>\n",
              "      <th>27452</th>\n",
              "      <td>18</td>\n",
              "      <td>174</td>\n",
              "      <td>174</td>\n",
              "      <td>174</td>\n",
              "      <td>174</td>\n",
              "      <td>174</td>\n",
              "      <td>175</td>\n",
              "      <td>175</td>\n",
              "      <td>174</td>\n",
              "      <td>173</td>\n",
              "      <td>173</td>\n",
              "      <td>173</td>\n",
              "      <td>172</td>\n",
              "      <td>171</td>\n",
              "      <td>171</td>\n",
              "      <td>171</td>\n",
              "      <td>170</td>\n",
              "      <td>169</td>\n",
              "      <td>168</td>\n",
              "      <td>166</td>\n",
              "      <td>166</td>\n",
              "      <td>165</td>\n",
              "      <td>165</td>\n",
              "      <td>163</td>\n",
              "      <td>162</td>\n",
              "      <td>161</td>\n",
              "      <td>160</td>\n",
              "      <td>158</td>\n",
              "      <td>156</td>\n",
              "      <td>178</td>\n",
              "      <td>178</td>\n",
              "      <td>177</td>\n",
              "      <td>176</td>\n",
              "      <td>177</td>\n",
              "      <td>177</td>\n",
              "      <td>177</td>\n",
              "      <td>176</td>\n",
              "      <td>176</td>\n",
              "      <td>176</td>\n",
              "      <td>175</td>\n",
              "      <td>...</td>\n",
              "      <td>110</td>\n",
              "      <td>85</td>\n",
              "      <td>90</td>\n",
              "      <td>166</td>\n",
              "      <td>205</td>\n",
              "      <td>207</td>\n",
              "      <td>205</td>\n",
              "      <td>203</td>\n",
              "      <td>202</td>\n",
              "      <td>201</td>\n",
              "      <td>200</td>\n",
              "      <td>198</td>\n",
              "      <td>217</td>\n",
              "      <td>217</td>\n",
              "      <td>217</td>\n",
              "      <td>218</td>\n",
              "      <td>218</td>\n",
              "      <td>211</td>\n",
              "      <td>203</td>\n",
              "      <td>200</td>\n",
              "      <td>189</td>\n",
              "      <td>171</td>\n",
              "      <td>157</td>\n",
              "      <td>145</td>\n",
              "      <td>136</td>\n",
              "      <td>129</td>\n",
              "      <td>128</td>\n",
              "      <td>125</td>\n",
              "      <td>101</td>\n",
              "      <td>77</td>\n",
              "      <td>121</td>\n",
              "      <td>196</td>\n",
              "      <td>209</td>\n",
              "      <td>208</td>\n",
              "      <td>206</td>\n",
              "      <td>204</td>\n",
              "      <td>203</td>\n",
              "      <td>202</td>\n",
              "      <td>200</td>\n",
              "      <td>200</td>\n",
              "    </tr>\n",
              "    <tr>\n",
              "      <th>27453</th>\n",
              "      <td>17</td>\n",
              "      <td>177</td>\n",
              "      <td>181</td>\n",
              "      <td>184</td>\n",
              "      <td>185</td>\n",
              "      <td>187</td>\n",
              "      <td>189</td>\n",
              "      <td>190</td>\n",
              "      <td>191</td>\n",
              "      <td>191</td>\n",
              "      <td>190</td>\n",
              "      <td>191</td>\n",
              "      <td>193</td>\n",
              "      <td>192</td>\n",
              "      <td>191</td>\n",
              "      <td>191</td>\n",
              "      <td>191</td>\n",
              "      <td>191</td>\n",
              "      <td>190</td>\n",
              "      <td>190</td>\n",
              "      <td>189</td>\n",
              "      <td>187</td>\n",
              "      <td>186</td>\n",
              "      <td>184</td>\n",
              "      <td>183</td>\n",
              "      <td>182</td>\n",
              "      <td>181</td>\n",
              "      <td>179</td>\n",
              "      <td>177</td>\n",
              "      <td>179</td>\n",
              "      <td>182</td>\n",
              "      <td>185</td>\n",
              "      <td>187</td>\n",
              "      <td>189</td>\n",
              "      <td>190</td>\n",
              "      <td>192</td>\n",
              "      <td>192</td>\n",
              "      <td>192</td>\n",
              "      <td>192</td>\n",
              "      <td>194</td>\n",
              "      <td>...</td>\n",
              "      <td>190</td>\n",
              "      <td>173</td>\n",
              "      <td>140</td>\n",
              "      <td>80</td>\n",
              "      <td>28</td>\n",
              "      <td>60</td>\n",
              "      <td>70</td>\n",
              "      <td>61</td>\n",
              "      <td>61</td>\n",
              "      <td>78</td>\n",
              "      <td>100</td>\n",
              "      <td>86</td>\n",
              "      <td>136</td>\n",
              "      <td>135</td>\n",
              "      <td>135</td>\n",
              "      <td>135</td>\n",
              "      <td>132</td>\n",
              "      <td>132</td>\n",
              "      <td>136</td>\n",
              "      <td>136</td>\n",
              "      <td>137</td>\n",
              "      <td>144</td>\n",
              "      <td>103</td>\n",
              "      <td>120</td>\n",
              "      <td>197</td>\n",
              "      <td>200</td>\n",
              "      <td>195</td>\n",
              "      <td>196</td>\n",
              "      <td>170</td>\n",
              "      <td>149</td>\n",
              "      <td>119</td>\n",
              "      <td>56</td>\n",
              "      <td>27</td>\n",
              "      <td>58</td>\n",
              "      <td>102</td>\n",
              "      <td>79</td>\n",
              "      <td>47</td>\n",
              "      <td>64</td>\n",
              "      <td>87</td>\n",
              "      <td>93</td>\n",
              "    </tr>\n",
              "    <tr>\n",
              "      <th>27454</th>\n",
              "      <td>23</td>\n",
              "      <td>179</td>\n",
              "      <td>180</td>\n",
              "      <td>180</td>\n",
              "      <td>180</td>\n",
              "      <td>182</td>\n",
              "      <td>181</td>\n",
              "      <td>182</td>\n",
              "      <td>183</td>\n",
              "      <td>182</td>\n",
              "      <td>182</td>\n",
              "      <td>182</td>\n",
              "      <td>181</td>\n",
              "      <td>181</td>\n",
              "      <td>182</td>\n",
              "      <td>181</td>\n",
              "      <td>181</td>\n",
              "      <td>181</td>\n",
              "      <td>181</td>\n",
              "      <td>179</td>\n",
              "      <td>178</td>\n",
              "      <td>178</td>\n",
              "      <td>176</td>\n",
              "      <td>177</td>\n",
              "      <td>178</td>\n",
              "      <td>159</td>\n",
              "      <td>47</td>\n",
              "      <td>30</td>\n",
              "      <td>39</td>\n",
              "      <td>180</td>\n",
              "      <td>182</td>\n",
              "      <td>183</td>\n",
              "      <td>183</td>\n",
              "      <td>183</td>\n",
              "      <td>183</td>\n",
              "      <td>185</td>\n",
              "      <td>184</td>\n",
              "      <td>185</td>\n",
              "      <td>183</td>\n",
              "      <td>184</td>\n",
              "      <td>...</td>\n",
              "      <td>97</td>\n",
              "      <td>97</td>\n",
              "      <td>95</td>\n",
              "      <td>90</td>\n",
              "      <td>92</td>\n",
              "      <td>101</td>\n",
              "      <td>125</td>\n",
              "      <td>160</td>\n",
              "      <td>191</td>\n",
              "      <td>202</td>\n",
              "      <td>213</td>\n",
              "      <td>215</td>\n",
              "      <td>96</td>\n",
              "      <td>88</td>\n",
              "      <td>109</td>\n",
              "      <td>216</td>\n",
              "      <td>208</td>\n",
              "      <td>207</td>\n",
              "      <td>203</td>\n",
              "      <td>178</td>\n",
              "      <td>151</td>\n",
              "      <td>112</td>\n",
              "      <td>87</td>\n",
              "      <td>80</td>\n",
              "      <td>76</td>\n",
              "      <td>80</td>\n",
              "      <td>86</td>\n",
              "      <td>97</td>\n",
              "      <td>102</td>\n",
              "      <td>103</td>\n",
              "      <td>108</td>\n",
              "      <td>132</td>\n",
              "      <td>170</td>\n",
              "      <td>194</td>\n",
              "      <td>214</td>\n",
              "      <td>203</td>\n",
              "      <td>197</td>\n",
              "      <td>205</td>\n",
              "      <td>209</td>\n",
              "      <td>215</td>\n",
              "    </tr>\n",
              "  </tbody>\n",
              "</table>\n",
              "<p>27455 rows × 785 columns</p>\n",
              "</div>"
            ],
            "text/plain": [
              "       label  pixel1  pixel2  pixel3  ...  pixel781  pixel782  pixel783  pixel784\n",
              "0          3     107     118     127  ...       206       204       203       202\n",
              "1          6     155     157     156  ...       175       103       135       149\n",
              "2          2     187     188     188  ...       198       195       194       195\n",
              "3          2     211     211     212  ...       225       222       229       163\n",
              "4         13     164     167     170  ...       157       163       164       179\n",
              "...      ...     ...     ...     ...  ...       ...       ...       ...       ...\n",
              "27450     13     189     189     190  ...       234       200       222       225\n",
              "27451     23     151     154     157  ...       195       195       195       194\n",
              "27452     18     174     174     174  ...       203       202       200       200\n",
              "27453     17     177     181     184  ...        47        64        87        93\n",
              "27454     23     179     180     180  ...       197       205       209       215\n",
              "\n",
              "[27455 rows x 785 columns]"
            ]
          },
          "metadata": {
            "tags": []
          }
        }
      ]
    },
    {
      "cell_type": "markdown",
      "metadata": {
        "id": "I2rTnLu0o1w_",
        "colab_type": "text"
      },
      "source": [
        "**5. Make a label variable**"
      ]
    },
    {
      "cell_type": "code",
      "metadata": {
        "id": "54S24CA5Rc-H",
        "colab_type": "code",
        "outputId": "e24a1abf-5f5a-40cf-afee-c99579c8a309",
        "colab": {
          "base_uri": "https://localhost:8080/",
          "height": 51
        }
      },
      "source": [
        "labels = train['label'].values\n",
        "unique_val = np.array(labels)\n",
        "np.unique(unique_val)"
      ],
      "execution_count": 49,
      "outputs": [
        {
          "output_type": "execute_result",
          "data": {
            "text/plain": [
              "array([ 0,  1,  2,  3,  4,  5,  6,  7,  8, 10, 11, 12, 13, 14, 15, 16, 17,\n",
              "       18, 19, 20, 21, 22, 23, 24])"
            ]
          },
          "metadata": {
            "tags": []
          },
          "execution_count": 49
        }
      ]
    },
    {
      "cell_type": "markdown",
      "metadata": {
        "id": "fd3_SFGb7JIp",
        "colab_type": "text"
      },
      "source": [
        "**6. Check the data distribution**\n",
        "\n",
        "Below we can see the data distribution."
      ]
    },
    {
      "cell_type": "code",
      "metadata": {
        "id": "cuxf5xQk5lbQ",
        "colab_type": "code",
        "outputId": "272a56c8-55d9-42bb-d816-19aa79326ae3",
        "colab": {
          "base_uri": "https://localhost:8080/",
          "height": 500
        }
      },
      "source": [
        "plt.figure(figsize = (12,8))\n",
        "sns.countplot(x =labels)"
      ],
      "execution_count": 50,
      "outputs": [
        {
          "output_type": "execute_result",
          "data": {
            "text/plain": [
              "<matplotlib.axes._subplots.AxesSubplot at 0x7fa3c3cc4518>"
            ]
          },
          "metadata": {
            "tags": []
          },
          "execution_count": 50
        },
        {
          "output_type": "display_data",
          "data": {
            "image/png": "[encoded data removed]",
            "text/plain": [
              "<Figure size 864x576 with 1 Axes>"
            ]
          },
          "metadata": {
            "tags": []
          }
        }
      ]
    },
    {
      "cell_type": "markdown",
      "metadata": {
        "id": "FxZEA9HN76v7",
        "colab_type": "text"
      },
      "source": [
        "**7. Drop the label column to make feature variable**"
      ]
    },
    {
      "cell_type": "code",
      "metadata": {
        "id": "BKNAvYVTSH5E",
        "colab_type": "code",
        "colab": {}
      },
      "source": [
        "train.drop('label', axis = 1, inplace = True)"
      ],
      "execution_count": 0,
      "outputs": []
    },
    {
      "cell_type": "markdown",
      "metadata": {
        "id": "ICpYwJW3_Ihb",
        "colab_type": "text"
      },
      "source": [
        "**8. Change feature variable from column to image format**\n",
        "\n",
        "We need to change the dataset format from column pixel value to 2D array image because we will use CNN."
      ]
    },
    {
      "cell_type": "code",
      "metadata": {
        "id": "JVH58f0J-VOq",
        "colab_type": "code",
        "colab": {}
      },
      "source": [
        "images = train.values\n",
        "images = np.array([np.reshape(i, (28, 28)) for i in images])\n",
        "images = np.array([i.flatten() for i in images])"
      ],
      "execution_count": 0,
      "outputs": []
    },
    {
      "cell_type": "code",
      "metadata": {
        "id": "vuzuF6BABMzL",
        "colab_type": "code",
        "outputId": "5e94c9c7-2dc1-4ae6-cb5f-7fc9a44ade72",
        "colab": {
          "base_uri": "https://localhost:8080/",
          "height": 282
        }
      },
      "source": [
        "#example 1 image\n",
        "plt.imshow(images[20].reshape(28,28))"
      ],
      "execution_count": 55,
      "outputs": [
        {
          "output_type": "execute_result",
          "data": {
            "text/plain": [
              "<matplotlib.image.AxesImage at 0x7fa3c3add0b8>"
            ]
          },
          "metadata": {
            "tags": []
          },
          "execution_count": 55
        },
        {
          "output_type": "display_data",
          "data": {
            "image/png": "[encoded data removed]",
            "text/plain": [
              "<Figure size 432x288 with 1 Axes>"
            ]
          },
          "metadata": {
            "tags": []
          }
        }
      ]
    },
    {
      "cell_type": "markdown",
      "metadata": {
        "id": "J4lmtShmAqbS",
        "colab_type": "text"
      },
      "source": [
        "**9. Transform label format to categorical**\n",
        "\n",
        "Since our target variable are in categorical(nomial) so we are using label binarizer"
      ]
    },
    {
      "cell_type": "code",
      "metadata": {
        "id": "q38WTr3wAkbs",
        "colab_type": "code",
        "outputId": "b2ec572a-962c-414e-e726-1d1de2ef85cf",
        "colab": {
          "base_uri": "https://localhost:8080/",
          "height": 136
        }
      },
      "source": [
        "from sklearn.preprocessing import LabelBinarizer\n",
        "label_binrizer = LabelBinarizer()\n",
        "labels = label_binrizer.fit_transform(labels)\n",
        "print(labels)"
      ],
      "execution_count": 56,
      "outputs": [
        {
          "output_type": "stream",
          "text": [
            "[[0 0 0 ... 0 0 0]\n",
            " [0 0 0 ... 0 0 0]\n",
            " [0 0 1 ... 0 0 0]\n",
            " ...\n",
            " [0 0 0 ... 0 0 0]\n",
            " [0 0 0 ... 0 0 0]\n",
            " [0 0 0 ... 0 1 0]]\n"
          ],
          "name": "stdout"
        }
      ]
    },
    {
      "cell_type": "markdown",
      "metadata": {
        "id": "A7FeMm5LMZOp",
        "colab_type": "text"
      },
      "source": [
        "**10. Split Data**\n",
        "\n",
        "![alt text](https://miro.medium.com/max/1552/1*Nv2NNALuokZEcV6hYEHdGA.png)\n",
        "\n",
        "Split the dataset to 80% train 20% validation.\n",
        "\n",
        "And test data was splited in kaggle."
      ]
    },
    {
      "cell_type": "code",
      "metadata": {
        "id": "PDZLQfoHBIRE",
        "colab_type": "code",
        "colab": {}
      },
      "source": [
        "from sklearn.model_selection import train_test_split\n",
        "x_train, x_validation, y_train, y_validation = train_test_split(images, labels, test_size = 0.2, stratify = labels, random_state = 7)"
      ],
      "execution_count": 0,
      "outputs": []
    },
    {
      "cell_type": "markdown",
      "metadata": {
        "id": "ZpV0319HwuFY",
        "colab_type": "text"
      },
      "source": [
        "**11. Reshape our rows as square tables for Input in CNN Method**"
      ]
    },
    {
      "cell_type": "code",
      "metadata": {
        "id": "NPx2Ck4Qp_GZ",
        "colab_type": "code",
        "colab": {}
      },
      "source": [
        "x_train = x_train.reshape(x_train.shape[0], 28, 28, 1)\n",
        "x_validation = x_validation.reshape(x_validation.shape[0], 28, 28, 1)"
      ],
      "execution_count": 0,
      "outputs": []
    },
    {
      "cell_type": "markdown",
      "metadata": {
        "id": "znd2PAAFy33h",
        "colab_type": "text"
      },
      "source": [
        "**12. Augmentation Data to balance the dataset**\n",
        "\n",
        "![alt text](https://www.pyimagesearch.com/wp-content/uploads/2019/07/keras_data_augmentation_in_place.png)\n",
        "\n",
        "Augmentasi data mencakup berbagai teknik yang digunakan untuk menghasilkan sampel pelatihan \"baru\" dari yang asli dengan menerapkan teknik transformasi tanpa merubah label kelas.\n",
        "\n",
        "Cara kerja ImageDataGenerator\n",
        "1.   Masukan kumpulan gambar data latih ke dalam ImageDataGenerator\n",
        "2.   ImageDataGenerator akan merubah sebuah gambar menjadi sekumpulan gambar yang sudah di transformasi sesuai dengan keperluan\n",
        "3.   Hasilnya akan dikembalikan menjadi calling function\n",
        "\n",
        "\n",
        "\n"
      ]
    },
    {
      "cell_type": "code",
      "metadata": {
        "id": "2MEBkhDRr2rU",
        "colab_type": "code",
        "colab": {}
      },
      "source": [
        "from tensorflow.keras.preprocessing.image import ImageDataGenerator\n",
        "#initiate ImageDataGenerator to augmentate data train to rescale and zoom\n",
        "train_datagen = ImageDataGenerator(rescale=1.0/255.0, zoom_range=0.2)\n",
        "#initiate ImageDataGenerator to augmentate data validation to rescale\n",
        "validation_datagen = ImageDataGenerator(rescale=1.0/255.0)"
      ],
      "execution_count": 0,
      "outputs": []
    },
    {
      "cell_type": "code",
      "metadata": {
        "id": "7nZy9nBozGjC",
        "colab_type": "code",
        "colab": {}
      },
      "source": [
        "#input the data to ImageDataGenerator\n",
        "x_train_set = train_datagen.flow(x_train,y_train,batch_size=32)\n",
        "x_validation_set = validation_datagen.flow(x_validation,y_validation,batch_size=32)"
      ],
      "execution_count": 0,
      "outputs": []
    },
    {
      "cell_type": "markdown",
      "metadata": {
        "id": "N_--4kCE30vR",
        "colab_type": "text"
      },
      "source": [
        "## Build Model CNN"
      ]
    },
    {
      "cell_type": "code",
      "metadata": {
        "id": "y5m-alKO-74b",
        "colab_type": "code",
        "colab": {}
      },
      "source": [
        "from tensorflow.python.keras.layers import Dense, Conv2D, MaxPooling2D, Flatten, Dropout\n",
        "from tensorflow.python.keras import Sequential"
      ],
      "execution_count": 0,
      "outputs": []
    },
    {
      "cell_type": "markdown",
      "metadata": {
        "id": "kB4jYzLqNVqI",
        "colab_type": "text"
      },
      "source": [
        "**12. Build Architecture Model CNN**"
      ]
    },
    {
      "cell_type": "code",
      "metadata": {
        "id": "iUwrLVlzzlZ8",
        "colab_type": "code",
        "colab": {
          "base_uri": "https://localhost:8080/",
          "height": 663
        },
        "outputId": "a44a8fb2-f4df-4fe1-d4ca-8940d962dd30"
      },
      "source": [
        "# Initialising the CNN\n",
        "classifier = Sequential()\n",
        " \n",
        "# Step 1 - Convolution\n",
        "classifier.add(Conv2D(32, (3, 3), input_shape=(28,28,1), activation='relu'))\n",
        "classifier.add(Conv2D(32, (3, 3), activation='relu'))\n",
        "classifier.add(MaxPooling2D(pool_size=(2, 2)))  # 2x2 is optimal\n",
        " \n",
        "# Adding a second convolutional layer\n",
        "classifier.add(Conv2D(128, (3, 3), activation='relu'))\n",
        "classifier.add(Conv2D(128, (3, 3), activation='relu'))\n",
        "classifier.add(MaxPooling2D(pool_size=(2, 2)))\n",
        "classifier.add(Dropout(0.5))\n",
        " \n",
        "# Adding a third convolutional layer\n",
        "classifier.add(Conv2D(256, (3, 3), activation='relu'))\n",
        "classifier.add(MaxPooling2D(pool_size=(2, 2)))\n",
        "classifier.add(Dropout(0.5))\n",
        " \n",
        "# Step 3 - Flattening\n",
        "classifier.add(Flatten())\n",
        " \n",
        "# Step 4 - Full connection\n",
        "classifier.add(Dense(units=1000, activation='relu'))\n",
        "classifier.add(Dropout(0.5))\n",
        "classifier.add(Dense(units=128, activation='relu'))\n",
        "classifier.add(Dense(units=24, activation='softmax'))\n",
        "\n",
        "# Compiling the CNN\n",
        "classifier.compile(optimizer='adam', loss='categorical_crossentropy', metrics=['accuracy'])\n",
        "\n",
        "classifier.summary()"
      ],
      "execution_count": 107,
      "outputs": [
        {
          "output_type": "stream",
          "text": [
            "Model: \"sequential_22\"\n",
            "_________________________________________________________________\n",
            "Layer (type)                 Output Shape              Param #   \n",
            "=================================================================\n",
            "conv2d_86 (Conv2D)           (None, 26, 26, 32)        320       \n",
            "_________________________________________________________________\n",
            "conv2d_87 (Conv2D)           (None, 24, 24, 32)        9248      \n",
            "_________________________________________________________________\n",
            "max_pooling2d_31 (MaxPooling (None, 12, 12, 32)        0         \n",
            "_________________________________________________________________\n",
            "conv2d_88 (Conv2D)           (None, 10, 10, 128)       36992     \n",
            "_________________________________________________________________\n",
            "conv2d_89 (Conv2D)           (None, 8, 8, 128)         147584    \n",
            "_________________________________________________________________\n",
            "max_pooling2d_32 (MaxPooling (None, 4, 4, 128)         0         \n",
            "_________________________________________________________________\n",
            "dropout_19 (Dropout)         (None, 4, 4, 128)         0         \n",
            "_________________________________________________________________\n",
            "conv2d_90 (Conv2D)           (None, 2, 2, 256)         295168    \n",
            "_________________________________________________________________\n",
            "max_pooling2d_33 (MaxPooling (None, 1, 1, 256)         0         \n",
            "_________________________________________________________________\n",
            "dropout_20 (Dropout)         (None, 1, 1, 256)         0         \n",
            "_________________________________________________________________\n",
            "flatten_3 (Flatten)          (None, 256)               0         \n",
            "_________________________________________________________________\n",
            "dense_10 (Dense)             (None, 1000)              257000    \n",
            "_________________________________________________________________\n",
            "dropout_21 (Dropout)         (None, 1000)              0         \n",
            "_________________________________________________________________\n",
            "dense_11 (Dense)             (None, 128)               128128    \n",
            "_________________________________________________________________\n",
            "dense_12 (Dense)             (None, 24)                3096      \n",
            "=================================================================\n",
            "Total params: 877,536\n",
            "Trainable params: 877,536\n",
            "Non-trainable params: 0\n",
            "_________________________________________________________________\n"
          ],
          "name": "stdout"
        }
      ]
    },
    {
      "cell_type": "markdown",
      "metadata": {
        "id": "nMMDlxZaNPlL",
        "colab_type": "text"
      },
      "source": [
        "**13. Train the model**"
      ]
    },
    {
      "cell_type": "code",
      "metadata": {
        "id": "iFQWdw7jDucH",
        "colab_type": "code",
        "colab": {
          "base_uri": "https://localhost:8080/",
          "height": 697
        },
        "outputId": "07d8da32-6da8-4801-c091-c9993b9abffe"
      },
      "source": [
        "# Train the Model\n",
        "history = classifier.fit_generator(\n",
        "    x_train_set,\n",
        "    steps_per_epoch=len(x_train)/32,\n",
        "    epochs=20,\n",
        "    validation_data=x_validation_set,\n",
        "    validation_steps=len(x_validation)/32)"
      ],
      "execution_count": 108,
      "outputs": [
        {
          "output_type": "stream",
          "text": [
            "Epoch 1/20\n",
            "687/686 [==============================] - 106s 154ms/step - loss: 2.7752 - accuracy: 0.1393 - val_loss: 1.6767 - val_accuracy: 0.4254\n",
            "Epoch 2/20\n",
            "687/686 [==============================] - 105s 153ms/step - loss: 1.3002 - accuracy: 0.5538 - val_loss: 0.4223 - val_accuracy: 0.8946\n",
            "Epoch 3/20\n",
            "687/686 [==============================] - 105s 153ms/step - loss: 0.6922 - accuracy: 0.7547 - val_loss: 0.1954 - val_accuracy: 0.9477\n",
            "Epoch 4/20\n",
            "687/686 [==============================] - 105s 153ms/step - loss: 0.4839 - accuracy: 0.8339 - val_loss: 0.1077 - val_accuracy: 0.9743\n",
            "Epoch 5/20\n",
            "687/686 [==============================] - 105s 153ms/step - loss: 0.3547 - accuracy: 0.8789 - val_loss: 0.0498 - val_accuracy: 0.9938\n",
            "Epoch 6/20\n",
            "687/686 [==============================] - 106s 154ms/step - loss: 0.2790 - accuracy: 0.9061 - val_loss: 0.0245 - val_accuracy: 0.9984\n",
            "Epoch 7/20\n",
            "687/686 [==============================] - 105s 153ms/step - loss: 0.2469 - accuracy: 0.9168 - val_loss: 0.0180 - val_accuracy: 0.9987\n",
            "Epoch 8/20\n",
            "687/686 [==============================] - 105s 153ms/step - loss: 0.2131 - accuracy: 0.9298 - val_loss: 0.0113 - val_accuracy: 0.9995\n",
            "Epoch 9/20\n",
            "687/686 [==============================] - 105s 153ms/step - loss: 0.1898 - accuracy: 0.9399 - val_loss: 0.0040 - val_accuracy: 1.0000\n",
            "Epoch 10/20\n",
            "687/686 [==============================] - 105s 153ms/step - loss: 0.1801 - accuracy: 0.9431 - val_loss: 0.0059 - val_accuracy: 1.0000\n",
            "Epoch 11/20\n",
            "687/686 [==============================] - 106s 154ms/step - loss: 0.1493 - accuracy: 0.9501 - val_loss: 0.0027 - val_accuracy: 0.9998\n",
            "Epoch 12/20\n",
            "687/686 [==============================] - 105s 153ms/step - loss: 0.1499 - accuracy: 0.9529 - val_loss: 0.0055 - val_accuracy: 0.9985\n",
            "Epoch 13/20\n",
            "687/686 [==============================] - 106s 154ms/step - loss: 0.1270 - accuracy: 0.9592 - val_loss: 8.0975e-04 - val_accuracy: 1.0000\n",
            "Epoch 14/20\n",
            "687/686 [==============================] - 106s 154ms/step - loss: 0.1317 - accuracy: 0.9600 - val_loss: 0.0026 - val_accuracy: 0.9993\n",
            "Epoch 15/20\n",
            "687/686 [==============================] - 105s 154ms/step - loss: 0.1140 - accuracy: 0.9643 - val_loss: 0.0016 - val_accuracy: 1.0000\n",
            "Epoch 16/20\n",
            "687/686 [==============================] - 105s 153ms/step - loss: 0.1150 - accuracy: 0.9647 - val_loss: 0.0019 - val_accuracy: 0.9998\n",
            "Epoch 17/20\n",
            "687/686 [==============================] - 105s 154ms/step - loss: 0.1059 - accuracy: 0.9657 - val_loss: 0.0078 - val_accuracy: 0.9980\n",
            "Epoch 18/20\n",
            "687/686 [==============================] - 106s 154ms/step - loss: 0.1044 - accuracy: 0.9682 - val_loss: 3.4896e-04 - val_accuracy: 1.0000\n",
            "Epoch 19/20\n",
            "687/686 [==============================] - 106s 154ms/step - loss: 0.0869 - accuracy: 0.9726 - val_loss: 4.6432e-04 - val_accuracy: 1.0000\n",
            "Epoch 20/20\n",
            "687/686 [==============================] - 106s 154ms/step - loss: 0.0888 - accuracy: 0.9726 - val_loss: 3.0440e-04 - val_accuracy: 1.0000\n"
          ],
          "name": "stdout"
        }
      ]
    },
    {
      "cell_type": "markdown",
      "metadata": {
        "id": "sU3hSRi4OJZ8",
        "colab_type": "text"
      },
      "source": [
        "**14. Visualize the training and validation history**"
      ]
    },
    {
      "cell_type": "code",
      "metadata": {
        "id": "7wZ7tMHbNiIx",
        "colab_type": "code",
        "colab": {
          "base_uri": "https://localhost:8080/",
          "height": 545
        },
        "outputId": "cd7de517-b1eb-480a-f9a0-76d42c333b2a"
      },
      "source": [
        "acc = history.history['accuracy']\n",
        "val_acc = history.history['val_accuracy']\n",
        "loss = history.history['loss']\n",
        "val_loss = history.history['val_loss']\n",
        "\n",
        "epochs = range(len(acc))\n",
        "\n",
        "plt.plot(epochs, acc, 'r', label='Training accuracy')\n",
        "plt.plot(epochs, val_acc, 'b', label='Validation accuracy')\n",
        "plt.title('Training and validation accuracy')\n",
        "plt.legend()\n",
        "plt.figure()\n",
        "\n",
        "plt.plot(epochs, loss, 'r', label='Training Loss')\n",
        "plt.plot(epochs, val_loss, 'b', label='Validation Loss')\n",
        "plt.title('Training and validation loss')\n",
        "plt.legend()\n",
        "\n",
        "plt.show()"
      ],
      "execution_count": 109,
      "outputs": [
        {
          "output_type": "display_data",
          "data": {
            "image/png": "[encoded data removed]",
            "text/plain": [
              "<Figure size 432x288 with 1 Axes>"
            ]
          },
          "metadata": {
            "tags": []
          }
        },
        {
          "output_type": "display_data",
          "data": {
            "image/png": "[encoded data removed]",
            "text/plain": [
              "<Figure size 432x288 with 1 Axes>"
            ]
          },
          "metadata": {
            "tags": []
          }
        }
      ]
    },
    {
      "cell_type": "markdown",
      "metadata": {
        "id": "eKbjNb0dOBTY",
        "colab_type": "text"
      },
      "source": [
        "## Test model with Test Data"
      ]
    },
    {
      "cell_type": "markdown",
      "metadata": {
        "id": "L51TdZQJOG7R",
        "colab_type": "text"
      },
      "source": [
        "**1. Assign label in test data to new variable**"
      ]
    },
    {
      "cell_type": "code",
      "metadata": {
        "id": "qo_FsXsIOiuf",
        "colab_type": "code",
        "colab": {}
      },
      "source": [
        "test_labels = test['label']"
      ],
      "execution_count": 0,
      "outputs": []
    },
    {
      "cell_type": "markdown",
      "metadata": {
        "id": "wFeFIvxSOmA6",
        "colab_type": "text"
      },
      "source": [
        "**2. Drop label column to make input data as feature**"
      ]
    },
    {
      "cell_type": "code",
      "metadata": {
        "id": "5zZcRzXWOlRu",
        "colab_type": "code",
        "colab": {}
      },
      "source": [
        "test.drop('label', axis = 1, inplace = True)"
      ],
      "execution_count": 0,
      "outputs": []
    },
    {
      "cell_type": "markdown",
      "metadata": {
        "id": "_j5OKeuWOxVG",
        "colab_type": "text"
      },
      "source": [
        "**3. Change feature variable from column to image format**\n",
        "\n",
        "We need to change the dataset format from column pixel value to 2D array image because we will use CNN."
      ]
    },
    {
      "cell_type": "code",
      "metadata": {
        "id": "cb-c2TJ3PBJP",
        "colab_type": "code",
        "colab": {}
      },
      "source": [
        "test_images = test.values\n",
        "test_images = np.array([np.reshape(i, (28, 28)) for i in test_images])\n",
        "test_images = np.array([i.flatten() for i in test_images])"
      ],
      "execution_count": 0,
      "outputs": []
    },
    {
      "cell_type": "markdown",
      "metadata": {
        "id": "F_n8iPJROuxO",
        "colab_type": "text"
      },
      "source": [
        "**4. Transform label format to categorical**\n",
        "\n",
        "Since our target variable are in categorical(nomial) so we are using label binarizer"
      ]
    },
    {
      "cell_type": "code",
      "metadata": {
        "id": "a4kxg_6EPEwd",
        "colab_type": "code",
        "colab": {}
      },
      "source": [
        "test_labels = label_binrizer.fit_transform(test_labels)"
      ],
      "execution_count": 0,
      "outputs": []
    },
    {
      "cell_type": "markdown",
      "metadata": {
        "id": "C_wz88F0PQ0N",
        "colab_type": "text"
      },
      "source": [
        "**5. Reshape our rows as square tables for Input in CNN Method**"
      ]
    },
    {
      "cell_type": "code",
      "metadata": {
        "id": "_zcR4maJPKye",
        "colab_type": "code",
        "colab": {}
      },
      "source": [
        "test_images = test_images.reshape(test_images.shape[0], 28, 28, 1)"
      ],
      "execution_count": 0,
      "outputs": []
    },
    {
      "cell_type": "markdown",
      "metadata": {
        "id": "rJm5CeaNPUdY",
        "colab_type": "text"
      },
      "source": [
        "**6. Predict the Test data using model pre-trained**"
      ]
    },
    {
      "cell_type": "code",
      "metadata": {
        "id": "9Osql4F7Pehf",
        "colab_type": "code",
        "colab": {}
      },
      "source": [
        "y_pred = classifier.predict(test_images)"
      ],
      "execution_count": 0,
      "outputs": []
    },
    {
      "cell_type": "markdown",
      "metadata": {
        "id": "Cl9fNcVrPlxA",
        "colab_type": "text"
      },
      "source": [
        "**7. Calculate the accuracy**"
      ]
    },
    {
      "cell_type": "code",
      "metadata": {
        "id": "aj1XwCIXPr7n",
        "colab_type": "code",
        "colab": {
          "base_uri": "https://localhost:8080/",
          "height": 34
        },
        "outputId": "ec4dd8c5-ac60-417b-cba7-296558bb94e5"
      },
      "source": [
        "from sklearn.metrics import accuracy_score\n",
        "accuracy = accuracy_score(test_labels, y_pred.round())\n",
        "print(\"Accuracy Test Data = {:0.2f} %\".format(accuracy*100))"
      ],
      "execution_count": 124,
      "outputs": [
        {
          "output_type": "stream",
          "text": [
            "Accuracy Test Data = 90.04 %\n"
          ],
          "name": "stdout"
        }
      ]
    },
    {
      "cell_type": "markdown",
      "metadata": {
        "id": "EFUq9hIGPxoc",
        "colab_type": "text"
      },
      "source": [
        "**8. Save model pre-trained**"
      ]
    },
    {
      "cell_type": "code",
      "metadata": {
        "id": "n6LQ-tbLP3QD",
        "colab_type": "code",
        "colab": {}
      },
      "source": [
        "classifier.save('mode_sign_v1.h5')"
      ],
      "execution_count": 0,
      "outputs": []
    }
  ]
}